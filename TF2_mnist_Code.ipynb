{
  "nbformat": 4,
  "nbformat_minor": 0,
  "metadata": {
    "colab": {
      "provenance": [],
      "gpuType": "T4",
      "cell_execution_strategy": "setup",
      "include_colab_link": true
    },
    "kernelspec": {
      "name": "python3",
      "display_name": "Python 3"
    },
    "accelerator": "GPU"
  },
  "cells": [
    {
      "cell_type": "markdown",
      "metadata": {
        "id": "view-in-github",
        "colab_type": "text"
      },
      "source": [
        "<a href=\"https://colab.research.google.com/github/richdied/TensorflowDeveloperCertification/blob/main/TF2_mnist_Code.ipynb\" target=\"_parent\"><img src=\"https://colab.research.google.com/assets/colab-badge.svg\" alt=\"Open In Colab\"/></a>"
      ]
    },
    {
      "cell_type": "code",
      "source": [
        "####################################################\n",
        "## [중요]\n",
        "## 2023년 6월 1일 기준\n",
        "## Google Colab에 설치된 텐서플로우(TensorFlow) 버전은 2.12 버전입니다.\n",
        "## 시험에 제출 가능한 버전은 2.9.0 버전이기 때문에 버전을 다운그레이드 진행해야 합니다.\n",
        "## 반드시 아래 코드를 실행하여 버전 다운그레이드 후 모델링을 진행하세요.\n",
        "## 시험 볼 때는 현재 이 코드는 지워주셔야 합니다.\n",
        "## 관련하여 궁금하신 점은 슬랙 커뮤니티에 질문 남겨 주세요.\n",
        "####################################################\n",
        "import urllib.request\n",
        "\n",
        "url = 'https://raw.githubusercontent.com/teddylee777/machine-learning/master/99-Misc/01-Colab/tfcert.py'\n",
        "urllib.request.urlretrieve(url, 'tfcert.py')\n",
        "%run tfcert.py\n",
        "\n",
        "import tensorflow as tf\n",
        "import tensorflow_datasets as tfds\n",
        "\n",
        "print(f'설치 완료 후 TensorFlow 버전: {tf.__version__}')\n",
        "print(f'설치 완료 후 TensorFlow Datasets 버전: {tfds.__version__}')\n",
        "\n",
        "## 시험을 위한 버전 확인 ###########\n",
        "## TensorFlow:          2.9.0 #\n",
        "## TensorFlow Datasets: 4.6.0 #\n",
        "###############################"
      ],
      "metadata": {
        "id": "yO998PWHHzJ4",
        "colab": {
          "base_uri": "https://localhost:8080/"
        },
        "outputId": "5e925205-b598-4752-98d5-90cd86e78627"
      },
      "execution_count": null,
      "outputs": [
        {
          "output_type": "stream",
          "name": "stdout",
          "text": [
            "============================================================\n",
            "설치환경: Google Colab\n",
            "TensorFlow 시험환경을 구성중입니다. 잠시만 기다려 주세요.\n",
            "(설치는 약 1~5분 정도 소요 됩니다)\n",
            "============================================================\n",
            "============================================================\n",
            "[알림] TensorFlow 시험환경 구성이 완료 되었습니다.\n",
            "============================================================\n"
          ]
        },
        {
          "output_type": "stream",
          "name": "stderr",
          "text": [
            "/usr/local/lib/python3.10/dist-packages/scipy/__init__.py:146: UserWarning: A NumPy version >=1.16.5 and <1.23.0 is required for this version of SciPy (detected version 1.23.5\n",
            "  warnings.warn(f\"A NumPy version >={np_minversion} and <{np_maxversion}\"\n"
          ]
        },
        {
          "output_type": "stream",
          "name": "stdout",
          "text": [
            "설치 완료 후 TensorFlow 버전: 2.9.0\n",
            "설치 완료 후 TensorFlow Datasets 버전: 4.6.0\n"
          ]
        }
      ]
    },
    {
      "cell_type": "code",
      "metadata": {
        "id": "J-9e-PMqGCP3",
        "colab": {
          "base_uri": "https://localhost:8080/"
        },
        "outputId": "a340502f-89ec-44e6-f591-d6cca229d730"
      },
      "source": [
        "# ======================================================================\n",
        "# There are 5 questions in this test with increasing difficulty from 1-5\n",
        "# Please note that the weight of the grade for the question is relative\n",
        "# to its difficulty. So your Category 1 question will score much less\n",
        "# than your Category 5 question.\n",
        "# ======================================================================\n",
        "#\n",
        "# Basic Datasets Question\n",
        "#\n",
        "# Create a classifier for the MNIST dataset\n",
        "# Note that the test will expect it to classify 10 classes and that the\n",
        "# input shape should be the native size of the MNIST dataset which is\n",
        "# 28x28 monochrome. Do not resize the data. Your input layer should accept\n",
        "# (28,28) as the input shape only. If you amend this, the tests will fail.\n",
        "#\n",
        "\n",
        "# =================================================== #\n",
        "\n",
        "# =========== 합격 기준 가이드라인 공유 ============= #\n",
        "# val_loss 기준에 맞춰 주시는 것이 훨씬 더 중요 #\n",
        "# val_loss 보다 조금 높아도 상관없음. (언저리까지 OK) #\n",
        "# =================================================== #\n",
        "# 문제명: Category 2 - mnist\n",
        "# val_loss: 0.07\n",
        "# val_acc: 0.97\n",
        "# =================================================== #\n",
        "# =================================================== #\n",
        "\n",
        "\n",
        "import numpy as np\n",
        "import tensorflow as tf\n",
        "\n",
        "from tensorflow.keras.layers import Dense, Flatten\n",
        "from tensorflow.keras.models import Sequential\n",
        "from tensorflow.keras.callbacks import ModelCheckpoint\n",
        "\n",
        "\n",
        "def solution_model():\n",
        "    mnist = tf.keras.datasets.mnist\n",
        "    (x_train, y_train), (x_valid, y_valid) = mnist.load_data()\n",
        "    x_train.shape, x_valid.shape\n",
        "    y_train.shape, y_valid.shape\n",
        "    x_train = x_train / 255.0\n",
        "    x_valid = x_valid / 255.0\n",
        "    x = Flatten(input_shape=(28, 28))\n",
        "\n",
        "    model = Sequential([\n",
        "        tf.keras.layers.Reshape((28, 28, 1), input_shape=(28, 28)),\n",
        "        tf.keras.layers.Conv2D(32, (3, 3), activation='relu'),\n",
        "        tf.keras.layers.MaxPooling2D(2, 2),\n",
        "        tf.keras.layers.Conv2D(64, (3, 3), activation='relu'),\n",
        "        tf.keras.layers.MaxPooling2D(2, 2),\n",
        "        tf.keras.layers.Conv2D(128, (3, 3), activation='relu'),\n",
        "        tf.keras.layers.MaxPooling2D(2, 2),\n",
        "        tf.keras.layers.Flatten(),\n",
        "        tf.keras.layers.Dense(32, activation='relu'),\n",
        "        tf.keras.layers.Dense(10, activation='softmax'),\n",
        "    ])\n",
        "\n",
        "    model.compile(optimizer='adam', loss='sparse_categorical_crossentropy', metrics=['acc'])\n",
        "\n",
        "    checkpoint_path = \"my_checkpoint.ckpt\"\n",
        "    checkpoint = ModelCheckpoint(filepath=checkpoint_path,\n",
        "                             save_weights_only=True,\n",
        "                             save_best_only=True,\n",
        "                             monitor='val_loss',\n",
        "                             verbose=1)\n",
        "\n",
        "    history = model.fit(x_train, y_train,\n",
        "                    validation_data=(x_valid, y_valid),\n",
        "                    epochs=20,\n",
        "                    callbacks=[checkpoint],\n",
        "                   )\n",
        "\n",
        "\n",
        "    model.load_weights(checkpoint_path)\n",
        "\n",
        "\n",
        "    return model\n",
        "\n",
        "\n",
        "# Note that you'll need to save your model as a .h5 like this\n",
        "# This .h5 will be uploaded to the testing infrastructure\n",
        "# and a score will be returned to you\n",
        "if __name__ == '__main__':\n",
        "    model = solution_model()\n",
        "    model.save(\"TF2-mnist.h5\")"
      ],
      "execution_count": null,
      "outputs": [
        {
          "output_type": "stream",
          "name": "stdout",
          "text": [
            "Downloading data from https://storage.googleapis.com/tensorflow/tf-keras-datasets/mnist.npz\n",
            "11490434/11490434 [==============================] - 0s 0us/step\n",
            "Epoch 1/20\n",
            "1868/1875 [============================>.] - ETA: 0s - loss: 0.1967 - acc: 0.9383\n",
            "Epoch 1: val_loss improved from inf to 0.07611, saving model to my_checkpoint.ckpt\n",
            "1875/1875 [==============================] - 21s 6ms/step - loss: 0.1963 - acc: 0.9384 - val_loss: 0.0761 - val_acc: 0.9778\n",
            "Epoch 2/20\n",
            "1871/1875 [============================>.] - ETA: 0s - loss: 0.0668 - acc: 0.9792\n",
            "Epoch 2: val_loss improved from 0.07611 to 0.05328, saving model to my_checkpoint.ckpt\n",
            "1875/1875 [==============================] - 11s 6ms/step - loss: 0.0668 - acc: 0.9792 - val_loss: 0.0533 - val_acc: 0.9843\n",
            "Epoch 3/20\n",
            "1875/1875 [==============================] - ETA: 0s - loss: 0.0489 - acc: 0.9848\n",
            "Epoch 3: val_loss improved from 0.05328 to 0.04704, saving model to my_checkpoint.ckpt\n",
            "1875/1875 [==============================] - 8s 4ms/step - loss: 0.0489 - acc: 0.9848 - val_loss: 0.0470 - val_acc: 0.9851\n",
            "Epoch 4/20\n",
            "1874/1875 [============================>.] - ETA: 0s - loss: 0.0366 - acc: 0.9886\n",
            "Epoch 4: val_loss improved from 0.04704 to 0.04672, saving model to my_checkpoint.ckpt\n",
            "1875/1875 [==============================] - 13s 7ms/step - loss: 0.0365 - acc: 0.9886 - val_loss: 0.0467 - val_acc: 0.9860\n",
            "Epoch 5/20\n",
            "1870/1875 [============================>.] - ETA: 0s - loss: 0.0293 - acc: 0.9909\n",
            "Epoch 5: val_loss did not improve from 0.04672\n",
            "1875/1875 [==============================] - 10s 5ms/step - loss: 0.0293 - acc: 0.9909 - val_loss: 0.0519 - val_acc: 0.9852\n",
            "Epoch 6/20\n",
            "1866/1875 [============================>.] - ETA: 0s - loss: 0.0234 - acc: 0.9929\n",
            "Epoch 6: val_loss did not improve from 0.04672\n",
            "1875/1875 [==============================] - 10s 5ms/step - loss: 0.0235 - acc: 0.9929 - val_loss: 0.0599 - val_acc: 0.9820\n",
            "Epoch 7/20\n",
            "1862/1875 [============================>.] - ETA: 0s - loss: 0.0180 - acc: 0.9939\n",
            "Epoch 7: val_loss improved from 0.04672 to 0.03821, saving model to my_checkpoint.ckpt\n",
            "1875/1875 [==============================] - 11s 6ms/step - loss: 0.0180 - acc: 0.9940 - val_loss: 0.0382 - val_acc: 0.9881\n",
            "Epoch 8/20\n",
            "1871/1875 [============================>.] - ETA: 0s - loss: 0.0167 - acc: 0.9943\n",
            "Epoch 8: val_loss did not improve from 0.03821\n",
            "1875/1875 [==============================] - 7s 4ms/step - loss: 0.0166 - acc: 0.9943 - val_loss: 0.0650 - val_acc: 0.9849\n",
            "Epoch 9/20\n",
            "1867/1875 [============================>.] - ETA: 0s - loss: 0.0137 - acc: 0.9956\n",
            "Epoch 9: val_loss did not improve from 0.03821\n",
            "1875/1875 [==============================] - 11s 6ms/step - loss: 0.0137 - acc: 0.9956 - val_loss: 0.0683 - val_acc: 0.9805\n",
            "Epoch 10/20\n",
            "1871/1875 [============================>.] - ETA: 0s - loss: 0.0119 - acc: 0.9962\n",
            "Epoch 10: val_loss did not improve from 0.03821\n",
            "1875/1875 [==============================] - 9s 5ms/step - loss: 0.0119 - acc: 0.9962 - val_loss: 0.0528 - val_acc: 0.9894\n",
            "Epoch 11/20\n",
            "1870/1875 [============================>.] - ETA: 0s - loss: 0.0118 - acc: 0.9962\n",
            "Epoch 11: val_loss did not improve from 0.03821\n",
            "1875/1875 [==============================] - 9s 5ms/step - loss: 0.0117 - acc: 0.9962 - val_loss: 0.0646 - val_acc: 0.9852\n",
            "Epoch 12/20\n",
            "1869/1875 [============================>.] - ETA: 0s - loss: 0.0097 - acc: 0.9968\n",
            "Epoch 12: val_loss did not improve from 0.03821\n",
            "1875/1875 [==============================] - 11s 6ms/step - loss: 0.0096 - acc: 0.9968 - val_loss: 0.0640 - val_acc: 0.9876\n",
            "Epoch 13/20\n",
            "1874/1875 [============================>.] - ETA: 0s - loss: 0.0098 - acc: 0.9967\n",
            "Epoch 13: val_loss did not improve from 0.03821\n",
            "1875/1875 [==============================] - 8s 4ms/step - loss: 0.0098 - acc: 0.9967 - val_loss: 0.0484 - val_acc: 0.9896\n",
            "Epoch 14/20\n",
            "1868/1875 [============================>.] - ETA: 0s - loss: 0.0069 - acc: 0.9978\n",
            "Epoch 14: val_loss did not improve from 0.03821\n",
            "1875/1875 [==============================] - 11s 6ms/step - loss: 0.0068 - acc: 0.9978 - val_loss: 0.0559 - val_acc: 0.9897\n",
            "Epoch 15/20\n",
            "1863/1875 [============================>.] - ETA: 0s - loss: 0.0081 - acc: 0.9975\n",
            "Epoch 15: val_loss did not improve from 0.03821\n",
            "1875/1875 [==============================] - 10s 5ms/step - loss: 0.0082 - acc: 0.9974 - val_loss: 0.0498 - val_acc: 0.9902\n",
            "Epoch 16/20\n",
            "1875/1875 [==============================] - ETA: 0s - loss: 0.0068 - acc: 0.9978\n",
            "Epoch 16: val_loss did not improve from 0.03821\n",
            "1875/1875 [==============================] - 11s 6ms/step - loss: 0.0068 - acc: 0.9978 - val_loss: 0.0600 - val_acc: 0.9882\n",
            "Epoch 17/20\n",
            "1873/1875 [============================>.] - ETA: 0s - loss: 0.0067 - acc: 0.9979\n",
            "Epoch 17: val_loss did not improve from 0.03821\n",
            "1875/1875 [==============================] - 12s 6ms/step - loss: 0.0067 - acc: 0.9979 - val_loss: 0.0547 - val_acc: 0.9893\n",
            "Epoch 18/20\n",
            "1866/1875 [============================>.] - ETA: 0s - loss: 0.0068 - acc: 0.9977\n",
            "Epoch 18: val_loss did not improve from 0.03821\n",
            "1875/1875 [==============================] - 8s 4ms/step - loss: 0.0068 - acc: 0.9977 - val_loss: 0.0589 - val_acc: 0.9887\n",
            "Epoch 19/20\n",
            "1873/1875 [============================>.] - ETA: 0s - loss: 0.0071 - acc: 0.9979\n",
            "Epoch 19: val_loss did not improve from 0.03821\n",
            "1875/1875 [==============================] - 9s 5ms/step - loss: 0.0071 - acc: 0.9979 - val_loss: 0.0751 - val_acc: 0.9870\n",
            "Epoch 20/20\n",
            "1868/1875 [============================>.] - ETA: 0s - loss: 0.0062 - acc: 0.9982\n",
            "Epoch 20: val_loss did not improve from 0.03821\n",
            "1875/1875 [==============================] - 11s 6ms/step - loss: 0.0062 - acc: 0.9982 - val_loss: 0.0677 - val_acc: 0.9877\n"
          ]
        }
      ]
    },
    {
      "cell_type": "code",
      "source": [],
      "metadata": {
        "colab": {
          "base_uri": "https://localhost:8080/",
          "height": 182
        },
        "id": "YRd4okhh2DZ4",
        "outputId": "82568e74-23c6-4975-c317-fbea9e2e2158"
      },
      "execution_count": null,
      "outputs": [
        {
          "output_type": "error",
          "ename": "NameError",
          "evalue": "ignored",
          "traceback": [
            "\u001b[0;31m---------------------------------------------------------------------------\u001b[0m",
            "\u001b[0;31mNameError\u001b[0m                                 Traceback (most recent call last)",
            "\u001b[0;32m<ipython-input-4-c3762a55e1af>\u001b[0m in \u001b[0;36m<cell line: 1>\u001b[0;34m()\u001b[0m\n\u001b[0;32m----> 1\u001b[0;31m \u001b[0mmodel\u001b[0m\u001b[0;34m.\u001b[0m\u001b[0mevaluate\u001b[0m\u001b[0;34m(\u001b[0m\u001b[0mx_valid\u001b[0m\u001b[0;34m,\u001b[0m \u001b[0my_valid\u001b[0m\u001b[0;34m)\u001b[0m\u001b[0;34m\u001b[0m\u001b[0;34m\u001b[0m\u001b[0m\n\u001b[0m",
            "\u001b[0;31mNameError\u001b[0m: name 'x_valid' is not defined"
          ]
        }
      ]
    },
    {
      "cell_type": "code",
      "source": [],
      "metadata": {
        "id": "Hcdc6T1d31QL"
      },
      "execution_count": null,
      "outputs": []
    }
  ]
}