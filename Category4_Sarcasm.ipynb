{
  "nbformat": 4,
  "nbformat_minor": 0,
  "metadata": {
    "accelerator": "GPU",
    "colab": {
      "provenance": [],
      "gpuType": "T4",
      "include_colab_link": true
    },
    "kernelspec": {
      "display_name": "Python 3",
      "name": "python3"
    },
    "language_info": {
      "codemirror_mode": {
        "name": "ipython",
        "version": 3
      },
      "file_extension": ".py",
      "mimetype": "text/x-python",
      "name": "python",
      "nbconvert_exporter": "python",
      "pygments_lexer": "ipython3",
      "version": "3.6.6"
    }
  },
  "cells": [
    {
      "cell_type": "markdown",
      "metadata": {
        "id": "view-in-github",
        "colab_type": "text"
      },
      "source": [
        "<a href=\"https://colab.research.google.com/github/richdied/TensorflowDeveloperCertification/blob/main/Category4_Sarcasm.ipynb\" target=\"_parent\"><img src=\"https://colab.research.google.com/assets/colab-badge.svg\" alt=\"Open In Colab\"/></a>"
      ]
    },
    {
      "cell_type": "markdown",
      "metadata": {
        "id": "sCmtzkeGPI2Q"
      },
      "source": [
        "# Category 4\n",
        "\n",
        "RNN 을 활용한 텍스트 분류 (Text Classification)"
      ]
    },
    {
      "cell_type": "markdown",
      "metadata": {
        "id": "iRSKbgK8PRs5"
      },
      "source": [
        "## 확인"
      ]
    },
    {
      "cell_type": "markdown",
      "metadata": {
        "id": "Fc4QcKvRPSj-"
      },
      "source": [
        "1. GPU 옵션 켜져 있는지 확인할 것!!! (수정 - 노트설정 - 하드웨어설정 (GPU))"
      ]
    },
    {
      "cell_type": "markdown",
      "metadata": {
        "id": "JNPjnA62PXVn"
      },
      "source": [
        "## 순서"
      ]
    },
    {
      "cell_type": "markdown",
      "metadata": {
        "id": "T463L0aPPX_n"
      },
      "source": [
        "1. **import**: 필요한 모듈 import\n",
        "2. **전처리**: 학습에 필요한 데이터 전처리를 수행합니다.\n",
        "3. **모델링(model)**: 모델을 정의합니다.\n",
        "4. **컴파일(compile)**: 모델을 생성합니다.\n",
        "5. **학습 (fit)**: 모델을 학습시킵니다."
      ]
    },
    {
      "cell_type": "markdown",
      "metadata": {
        "id": "W1Hj9c1NPbPu"
      },
      "source": [
        "## 문제"
      ]
    },
    {
      "cell_type": "markdown",
      "metadata": {
        "id": "RcvEYUuhPb3f"
      },
      "source": [
        "NLP QUESTION\n",
        "\n",
        "For this task you will build a classifier for the sarcasm dataset\n",
        "The classifier should have a final layer with 1 neuron activated by sigmoid as shown.<br/><br/>\n",
        "It will be tested against a number of sentences that the network hasn't previously seen<br/>\n",
        "And you will be scored on whether sarcasm was correctly detected in those sentences\n",
        "\n",
        "\n",
        "-------------------------------\n",
        "**자연어 처리**<br/><br/>\n",
        "이 작업에서는 sarcasm 데이터 세트에 대한 분류기를 작성합니다.\n",
        "분류기는 1 개의 뉴런으로 이루어진 sigmoid 활성함수로 구성된 최종 층을 가져야합니다.<br/>\n",
        "제출될 모델은 데이터셋이 없는 여러 문장에 대해 테스트됩니다.\n",
        "그리고 당신은 그 문장에서 sarcasm 판별이 제대로 감지되었는지에 따라 점수를 받게 될 것입니다\n"
      ]
    },
    {
      "cell_type": "markdown",
      "metadata": {
        "id": "7C3ewm9XQHgr"
      },
      "source": [
        "-----------------------------------\n"
      ]
    },
    {
      "cell_type": "markdown",
      "metadata": {
        "id": "YE_gqvyN3Ato"
      },
      "source": [
        "## 필요한 모듈 import"
      ]
    },
    {
      "cell_type": "code",
      "metadata": {
        "id": "HKMbpxX8Ro-h"
      },
      "source": [
        "import json\n",
        "import tensorflow as tf\n",
        "import numpy as np\n",
        "import urllib\n",
        "\n",
        "from tensorflow.keras.preprocessing.text import Tokenizer\n",
        "from tensorflow.keras.preprocessing.sequence import pad_sequences\n",
        "from tensorflow.keras.layers import Embedding, LSTM, Dense, Bidirectional, Flatten\n",
        "from tensorflow.keras.models import Sequential\n",
        "from tensorflow.keras.callbacks import ModelCheckpoint"
      ],
      "execution_count": 1,
      "outputs": []
    },
    {
      "cell_type": "markdown",
      "metadata": {
        "id": "wEf5XJJE38vl"
      },
      "source": [
        "## 필요한 데이터 셋 다운로드"
      ]
    },
    {
      "cell_type": "code",
      "metadata": {
        "id": "7FLOv_TrRo-m",
        "colab": {
          "base_uri": "https://localhost:8080/"
        },
        "outputId": "eb7bab17-a889-4ffa-eb0d-2cdc3b165e8f"
      },
      "source": [
        "url = 'https://storage.googleapis.com/download.tensorflow.org/data/sarcasm.json'\n",
        "urllib.request.urlretrieve(url, 'sarcasm.json')"
      ],
      "execution_count": 2,
      "outputs": [
        {
          "output_type": "execute_result",
          "data": {
            "text/plain": [
              "('sarcasm.json', <http.client.HTTPMessage at 0x7e8255f95c00>)"
            ]
          },
          "metadata": {},
          "execution_count": 2
        }
      ]
    },
    {
      "cell_type": "markdown",
      "metadata": {
        "id": "EXNFkRYERo-u"
      },
      "source": [
        "## Json 파일 로드"
      ]
    },
    {
      "cell_type": "markdown",
      "metadata": {
        "id": "5vTO4qdw5rUh"
      },
      "source": [
        "`datas` 변수에 `json`을 활용하여 로드"
      ]
    },
    {
      "cell_type": "code",
      "metadata": {
        "id": "yBg4ZmnKRo-v"
      },
      "source": [
        "with open('sarcasm.json') as f:\n",
        "    datas = json.load(f)"
      ],
      "execution_count": 3,
      "outputs": []
    },
    {
      "cell_type": "markdown",
      "metadata": {
        "id": "bI31En1o5p7R"
      },
      "source": [
        "`datas` 5개  출력\n",
        "\n",
        "* `article_link`: 뉴스 기사 URL\n",
        "* `headline`: 뉴스기사의 제목\n",
        "* `is_sarcastic`: 비꼬는 기사 여부 (비꼼: 1, 일반: 0)"
      ]
    },
    {
      "cell_type": "code",
      "metadata": {
        "id": "Ylqxc8fcRo-0",
        "colab": {
          "base_uri": "https://localhost:8080/"
        },
        "outputId": "cfbe21f5-d735-4539-e9ca-2c396ad3a180"
      },
      "source": [
        "datas[:5]"
      ],
      "execution_count": 4,
      "outputs": [
        {
          "output_type": "execute_result",
          "data": {
            "text/plain": [
              "[{'article_link': 'https://www.huffingtonpost.com/entry/versace-black-code_us_5861fbefe4b0de3a08f600d5',\n",
              "  'headline': \"former versace store clerk sues over secret 'black code' for minority shoppers\",\n",
              "  'is_sarcastic': 0},\n",
              " {'article_link': 'https://www.huffingtonpost.com/entry/roseanne-revival-review_us_5ab3a497e4b054d118e04365',\n",
              "  'headline': \"the 'roseanne' revival catches up to our thorny political mood, for better and worse\",\n",
              "  'is_sarcastic': 0},\n",
              " {'article_link': 'https://local.theonion.com/mom-starting-to-fear-son-s-web-series-closest-thing-she-1819576697',\n",
              "  'headline': \"mom starting to fear son's web series closest thing she will have to grandchild\",\n",
              "  'is_sarcastic': 1},\n",
              " {'article_link': 'https://politics.theonion.com/boehner-just-wants-wife-to-listen-not-come-up-with-alt-1819574302',\n",
              "  'headline': 'boehner just wants wife to listen, not come up with alternative debt-reduction ideas',\n",
              "  'is_sarcastic': 1},\n",
              " {'article_link': 'https://www.huffingtonpost.com/entry/jk-rowling-wishes-snape-happy-birthday_us_569117c4e4b0cad15e64fdcb',\n",
              "  'headline': 'j.k. rowling wishes snape happy birthday in the most magical way',\n",
              "  'is_sarcastic': 0}]"
            ]
          },
          "metadata": {},
          "execution_count": 4
        }
      ]
    },
    {
      "cell_type": "markdown",
      "metadata": {
        "id": "M2JA-GrVRo-4"
      },
      "source": [
        "## 전처리: 데이터셋 구성(sentences, labels)"
      ]
    },
    {
      "cell_type": "markdown",
      "metadata": {
        "id": "kes4D7Q-7r1n"
      },
      "source": [
        "* X (Feature): sentences\n",
        "* Y (Label): label"
      ]
    },
    {
      "cell_type": "markdown",
      "metadata": {
        "id": "Rrr_slKl8CMl"
      },
      "source": [
        "빈 list를 생성합니다. (sentences, labels)"
      ]
    },
    {
      "cell_type": "code",
      "metadata": {
        "id": "zgUxM1Rh7_-t"
      },
      "source": [
        "sentences = []\n",
        "labels = []"
      ],
      "execution_count": 5,
      "outputs": []
    },
    {
      "cell_type": "code",
      "metadata": {
        "id": "evOur3s7Ro_G"
      },
      "source": [
        "for data in datas:\n",
        "    sentences.append(data['headline'])\n",
        "    labels.append(data['is_sarcastic'])"
      ],
      "execution_count": 6,
      "outputs": []
    },
    {
      "cell_type": "markdown",
      "metadata": {
        "id": "ehP3G-b18Sgx"
      },
      "source": [
        "문장 5개를 출력합니다."
      ]
    },
    {
      "cell_type": "code",
      "metadata": {
        "id": "QxkCHeN-Ro_J",
        "colab": {
          "base_uri": "https://localhost:8080/"
        },
        "outputId": "586ad8e9-5ccc-47dd-c822-1e5b1bfe809b"
      },
      "source": [
        "sentences[:5]"
      ],
      "execution_count": 7,
      "outputs": [
        {
          "output_type": "execute_result",
          "data": {
            "text/plain": [
              "[\"former versace store clerk sues over secret 'black code' for minority shoppers\",\n",
              " \"the 'roseanne' revival catches up to our thorny political mood, for better and worse\",\n",
              " \"mom starting to fear son's web series closest thing she will have to grandchild\",\n",
              " 'boehner just wants wife to listen, not come up with alternative debt-reduction ideas',\n",
              " 'j.k. rowling wishes snape happy birthday in the most magical way']"
            ]
          },
          "metadata": {},
          "execution_count": 7
        }
      ]
    },
    {
      "cell_type": "code",
      "metadata": {
        "id": "7AFuC-5eRo_N",
        "colab": {
          "base_uri": "https://localhost:8080/"
        },
        "outputId": "52a2c2ee-2a69-467f-df1c-92a0cfe61c27"
      },
      "source": [
        "labels[:5]"
      ],
      "execution_count": 8,
      "outputs": [
        {
          "output_type": "execute_result",
          "data": {
            "text/plain": [
              "[0, 0, 1, 1, 0]"
            ]
          },
          "metadata": {},
          "execution_count": 8
        }
      ]
    },
    {
      "cell_type": "markdown",
      "metadata": {
        "id": "kV-gws0ZIDT5"
      },
      "source": [
        "## Train / Validation Set 분리"
      ]
    },
    {
      "cell_type": "markdown",
      "metadata": {
        "id": "7ui0tLP38ziX"
      },
      "source": [
        "20,000개를 기준으로 **데이터셋을 분리**합니다.\n"
      ]
    },
    {
      "cell_type": "code",
      "metadata": {
        "id": "AP_9RTOFIDT7"
      },
      "source": [
        "training_size = 20000"
      ],
      "execution_count": 9,
      "outputs": []
    },
    {
      "cell_type": "code",
      "metadata": {
        "id": "QbKerNkAIDUC"
      },
      "source": [
        "train_sentences = sentences[:training_size]\n",
        "train_labels = labels[:training_size]"
      ],
      "execution_count": 10,
      "outputs": []
    },
    {
      "cell_type": "code",
      "metadata": {
        "id": "VUv12RFJIDUJ"
      },
      "source": [
        "validation_sentences = sentences[training_size:]\n",
        "validation_labels = labels[training_size:]"
      ],
      "execution_count": 11,
      "outputs": []
    },
    {
      "cell_type": "markdown",
      "metadata": {
        "id": "CEXyUrNHRo_S"
      },
      "source": [
        "## 전처리 Step 1. Tokenizer 정의"
      ]
    },
    {
      "cell_type": "markdown",
      "metadata": {
        "id": "5bgjblALRo_c"
      },
      "source": [
        "단어의 토큰화를 진행합니다.\n",
        "\n",
        "* `num_words`: 단어 max 사이즈를 지정합니다. 가장 **빈도수가 높은** 단어부터 저장합니다.\n",
        "* `oov_token`: 단어 토큰에 없는 단어를 어떻게 표기할 것인지 지정해줍니다."
      ]
    },
    {
      "cell_type": "code",
      "metadata": {
        "id": "CyHzPmsg9aWS"
      },
      "source": [
        "vocab_size = 1000\n",
        "oov_tok = \"<OOV>\""
      ],
      "execution_count": 12,
      "outputs": []
    },
    {
      "cell_type": "code",
      "metadata": {
        "id": "ORwBwbVIRo_d"
      },
      "source": [
        "tokenizer = Tokenizer(num_words=vocab_size, oov_token='<OOV>')"
      ],
      "execution_count": 13,
      "outputs": []
    },
    {
      "cell_type": "markdown",
      "metadata": {
        "id": "5c6Nqj8YRo_g"
      },
      "source": [
        "## 전처리 Step 2. Tokenizer로 학습시킬 문장에 대한 토큰화 진행"
      ]
    },
    {
      "cell_type": "markdown",
      "metadata": {
        "id": "oWptwIFq-B9B"
      },
      "source": [
        "`fit_on_texts`로 학습할 문장에 대하여 **토큰화**를 진행합니다."
      ]
    },
    {
      "cell_type": "code",
      "metadata": {
        "id": "mWZFZUFNRo_h"
      },
      "source": [
        "tokenizer.fit_on_texts(train_sentences)"
      ],
      "execution_count": 14,
      "outputs": []
    },
    {
      "cell_type": "code",
      "metadata": {
        "id": "_2ZPQndyRo_k",
        "colab": {
          "base_uri": "https://localhost:8080/"
        },
        "outputId": "54cb9180-178b-4ec2-9d22-fbf3de861ee3"
      },
      "source": [
        "for key, value in tokenizer.word_index.items():\n",
        "    print('{}  \\t======>\\t {}'.format(key, value))\n",
        "    if value == 25:\n",
        "        break"
      ],
      "execution_count": 15,
      "outputs": [
        {
          "output_type": "stream",
          "name": "stdout",
          "text": [
            "<OOV>  \t======>\t 1\n",
            "to  \t======>\t 2\n",
            "of  \t======>\t 3\n",
            "the  \t======>\t 4\n",
            "in  \t======>\t 5\n",
            "for  \t======>\t 6\n",
            "a  \t======>\t 7\n",
            "on  \t======>\t 8\n",
            "and  \t======>\t 9\n",
            "with  \t======>\t 10\n",
            "is  \t======>\t 11\n",
            "new  \t======>\t 12\n",
            "trump  \t======>\t 13\n",
            "man  \t======>\t 14\n",
            "from  \t======>\t 15\n",
            "at  \t======>\t 16\n",
            "about  \t======>\t 17\n",
            "you  \t======>\t 18\n",
            "by  \t======>\t 19\n",
            "this  \t======>\t 20\n",
            "after  \t======>\t 21\n",
            "be  \t======>\t 22\n",
            "up  \t======>\t 23\n",
            "out  \t======>\t 24\n",
            "that  \t======>\t 25\n"
          ]
        }
      ]
    },
    {
      "cell_type": "markdown",
      "metadata": {
        "id": "Proj_AWp-Lsm"
      },
      "source": [
        "토큰화된 **단어 사전의 갯수**"
      ]
    },
    {
      "cell_type": "code",
      "metadata": {
        "id": "Rufbtj6aRo_n",
        "colab": {
          "base_uri": "https://localhost:8080/"
        },
        "outputId": "bc12d109-09e4-4ea5-b238-e7ad3d764b6d"
      },
      "source": [
        "len(tokenizer.word_index)"
      ],
      "execution_count": 16,
      "outputs": [
        {
          "output_type": "execute_result",
          "data": {
            "text/plain": [
              "25637"
            ]
          },
          "metadata": {},
          "execution_count": 16
        }
      ]
    },
    {
      "cell_type": "markdown",
      "metadata": {
        "id": "PFaPeh05-iZQ"
      },
      "source": [
        "단어사전은 **dictionary** 형태로 되어 있습니다.\n",
        "\n",
        "즉, 단어를 key로 입력하면 값을 return 합니다."
      ]
    },
    {
      "cell_type": "code",
      "metadata": {
        "id": "sxvQwbfVA_fk"
      },
      "source": [
        "word_index = tokenizer.word_index"
      ],
      "execution_count": 17,
      "outputs": []
    },
    {
      "cell_type": "code",
      "metadata": {
        "id": "GleJUaox-dHk",
        "colab": {
          "base_uri": "https://localhost:8080/"
        },
        "outputId": "f98f0251-0286-4566-911e-60a3e08bece3"
      },
      "source": [
        "word_index['trump']"
      ],
      "execution_count": 18,
      "outputs": [
        {
          "output_type": "execute_result",
          "data": {
            "text/plain": [
              "13"
            ]
          },
          "metadata": {},
          "execution_count": 18
        }
      ]
    },
    {
      "cell_type": "code",
      "metadata": {
        "id": "W23IUjuNRo_s",
        "colab": {
          "base_uri": "https://localhost:8080/"
        },
        "outputId": "af08a31c-a6f5-4354-a0ad-eedf2df9324c"
      },
      "source": [
        "word_index['hello']"
      ],
      "execution_count": 19,
      "outputs": [
        {
          "output_type": "execute_result",
          "data": {
            "text/plain": [
              "11724"
            ]
          },
          "metadata": {},
          "execution_count": 19
        }
      ]
    },
    {
      "cell_type": "code",
      "metadata": {
        "id": "nMwedFRm-Y9L",
        "colab": {
          "base_uri": "https://localhost:8080/"
        },
        "outputId": "abb79711-0bf4-464c-9842-8757d7ce83af"
      },
      "source": [
        "word_index['<OOV>']"
      ],
      "execution_count": 20,
      "outputs": [
        {
          "output_type": "execute_result",
          "data": {
            "text/plain": [
              "1"
            ]
          },
          "metadata": {},
          "execution_count": 20
        }
      ]
    },
    {
      "cell_type": "markdown",
      "metadata": {
        "id": "ozaMIfx_Ro_4"
      },
      "source": [
        "## 전처리 Step 3. 문장(sentences)을 토큰으로 변경 (치환)"
      ]
    },
    {
      "cell_type": "markdown",
      "metadata": {
        "id": "cNqh5HgMAcKW"
      },
      "source": [
        "`texts_to_sequences`: 문장을 숫자로 **치환** 합니다. Train Set, Valid Set 모두 별도로 적용해주어야 합니다."
      ]
    },
    {
      "cell_type": "code",
      "metadata": {
        "id": "bYNXTtTIRo_5"
      },
      "source": [
        "train_sequences = tokenizer.texts_to_sequences(train_sentences)\n",
        "validation_sequences = tokenizer.texts_to_sequences(validation_sentences)"
      ],
      "execution_count": 21,
      "outputs": []
    },
    {
      "cell_type": "markdown",
      "metadata": {
        "id": "weKqGE4DAolj"
      },
      "source": [
        "**변환된 Sequences 확인**"
      ]
    },
    {
      "cell_type": "code",
      "metadata": {
        "id": "CKH_vITVRo_8",
        "colab": {
          "base_uri": "https://localhost:8080/"
        },
        "outputId": "c27ff3ac-5a60-4758-b7fe-3edbcbcf999a"
      },
      "source": [
        "train_sequences[:5]"
      ],
      "execution_count": 22,
      "outputs": [
        {
          "output_type": "execute_result",
          "data": {
            "text/plain": [
              "[[328, 1, 799, 1, 1, 47, 389, 1, 1, 6, 1, 1],\n",
              " [4, 1, 1, 1, 23, 2, 161, 1, 390, 1, 6, 251, 9, 889],\n",
              " [153, 890, 2, 891, 1, 1, 595, 1, 221, 133, 36, 45, 2, 1],\n",
              " [1, 38, 213, 382, 2, 1, 29, 288, 23, 10, 1, 1, 1, 958],\n",
              " [715, 672, 1, 1, 1, 662, 553, 5, 4, 92, 1, 90]]"
            ]
          },
          "metadata": {},
          "execution_count": 22
        }
      ]
    },
    {
      "cell_type": "markdown",
      "metadata": {
        "id": "LEgW25CNRpAB"
      },
      "source": [
        "변환 과정에서 '<OOV>'로 **변환된 단어** 확인"
      ]
    },
    {
      "cell_type": "markdown",
      "metadata": {
        "id": "PgP_i2wHBScf"
      },
      "source": [
        "빈도수로 지정한 `num_words`=1000 에 의거하여, 빈도수가 1000번째보다 떨어지는 단어는 자동으로 1로 치환됩니다.\n",
        "\n",
        "1은 '<OOV>' 입니다. (Out of Vocab)"
      ]
    },
    {
      "cell_type": "code",
      "metadata": {
        "id": "Mt22rhELRpAF",
        "colab": {
          "base_uri": "https://localhost:8080/",
          "height": 35
        },
        "outputId": "46f9c497-30c3-4f1d-c1f8-21f97f2f6af9"
      },
      "source": [
        "train_sentences[4]"
      ],
      "execution_count": 23,
      "outputs": [
        {
          "output_type": "execute_result",
          "data": {
            "text/plain": [
              "'j.k. rowling wishes snape happy birthday in the most magical way'"
            ],
            "application/vnd.google.colaboratory.intrinsic+json": {
              "type": "string"
            }
          },
          "metadata": {},
          "execution_count": 23
        }
      ]
    },
    {
      "cell_type": "code",
      "metadata": {
        "id": "ZfwQcmvXRpAJ",
        "colab": {
          "base_uri": "https://localhost:8080/"
        },
        "outputId": "12129a95-bf7f-46d2-ebc6-a924157ddfe5"
      },
      "source": [
        "word_index['j'], word_index['k'], word_index['rowling'], word_index['wishes'], word_index['snape'], word_index['happy']"
      ],
      "execution_count": 24,
      "outputs": [
        {
          "output_type": "execute_result",
          "data": {
            "text/plain": [
              "(715, 672, 5652, 1043, 8865, 662)"
            ]
          },
          "metadata": {},
          "execution_count": 24
        }
      ]
    },
    {
      "cell_type": "code",
      "metadata": {
        "id": "kGYuwVXBA00V",
        "colab": {
          "base_uri": "https://localhost:8080/"
        },
        "outputId": "59a6ab47-ce5a-41f6-8bc8-48f53912bbc3"
      },
      "source": [
        "train_sequences[4]"
      ],
      "execution_count": 25,
      "outputs": [
        {
          "output_type": "execute_result",
          "data": {
            "text/plain": [
              "[715, 672, 1, 1, 1, 662, 553, 5, 4, 92, 1, 90]"
            ]
          },
          "metadata": {},
          "execution_count": 25
        }
      ]
    },
    {
      "cell_type": "markdown",
      "metadata": {
        "id": "SRCwRYueRpAQ"
      },
      "source": [
        "## 전처리 Step 4. 시퀀스의 길이를 맞춰주기"
      ]
    },
    {
      "cell_type": "markdown",
      "metadata": {
        "id": "zAZyufTlRpAR"
      },
      "source": [
        "3가지 옵션을 입력해 줍니다.\n",
        "\n",
        "* `maxlen`: 최대 문장 길이를 정의합니다. 최대 문장길이보다 길면, 잘라냅니다.\n",
        "* `truncating`: 문장의 길이가 `maxlen`보다 길 때 앞을 자를지 뒤를 자를지 정의합니다.\n",
        "* `padding`: 문장의 길이가 `maxlen`보다 짧을 때 채워줄 값을 앞을 채울지, 뒤를 채울지 정의합니다."
      ]
    },
    {
      "cell_type": "code",
      "metadata": {
        "id": "CNH-OCTJ9hCN"
      },
      "source": [
        "# 한 문장의 최대 단어 숫자\n",
        "max_length = 120\n",
        "\n",
        "# 잘라낼 문장의 위치\n",
        "trunc_type='post'\n",
        "\n",
        "# 채워줄 문장의 위치\n",
        "padding_type='post'"
      ],
      "execution_count": 26,
      "outputs": []
    },
    {
      "cell_type": "code",
      "metadata": {
        "id": "jdaO9ErnRpAS"
      },
      "source": [
        "train_padded = pad_sequences(train_sequences, maxlen=max_length, truncating=trunc_type, padding=padding_type)\n",
        "validation_padded = pad_sequences(validation_sequences, maxlen=max_length, padding=padding_type, truncating=trunc_type)"
      ],
      "execution_count": 27,
      "outputs": []
    },
    {
      "cell_type": "markdown",
      "metadata": {
        "id": "w6eVduGjBzpZ"
      },
      "source": [
        "변환된 후 shape 확인"
      ]
    },
    {
      "cell_type": "code",
      "metadata": {
        "id": "tAudfwjTRpAV",
        "colab": {
          "base_uri": "https://localhost:8080/"
        },
        "outputId": "be43cc2c-ebc3-4235-9689-06c4cb10b551"
      },
      "source": [
        "train_padded.shape"
      ],
      "execution_count": 28,
      "outputs": [
        {
          "output_type": "execute_result",
          "data": {
            "text/plain": [
              "(20000, 120)"
            ]
          },
          "metadata": {},
          "execution_count": 28
        }
      ]
    },
    {
      "cell_type": "markdown",
      "metadata": {
        "id": "_p77o7VlIDV4"
      },
      "source": [
        "## 전처리 Step 5. label 값을 numpy array로 변환"
      ]
    },
    {
      "cell_type": "markdown",
      "metadata": {
        "id": "Zk5Xv54HCEtx"
      },
      "source": [
        "model이 `list` type은 받아들이지 못하므로, numpy array로 변환합니다."
      ]
    },
    {
      "cell_type": "code",
      "metadata": {
        "id": "RSTya5jCIDV5"
      },
      "source": [
        "train_labels = np.array(train_labels)\n",
        "validation_labels = np.array(validation_labels)"
      ],
      "execution_count": 29,
      "outputs": []
    },
    {
      "cell_type": "markdown",
      "metadata": {
        "id": "GqT-hof9CNT-"
      },
      "source": [
        "-------------------------------------------------------------\n"
      ]
    },
    {
      "cell_type": "markdown",
      "metadata": {
        "id": "ZV72Y76tRpA3"
      },
      "source": [
        "## Embedding Layer"
      ]
    },
    {
      "cell_type": "markdown",
      "metadata": {
        "id": "GFGHxB6gRpA4"
      },
      "source": [
        "**고차원을 저차원으로 축소**시켜주는 역할을 합니다."
      ]
    },
    {
      "cell_type": "markdown",
      "metadata": {
        "id": "g-9HwruaRpA5"
      },
      "source": [
        "one-hot encoding을 진행했을 때, 1000차원으로 표현되는 단어들을 16차원으로 줄여주는 겁니다. 그렇게 해서 `sparsity`문제를 해소하도록 유도합니다."
      ]
    },
    {
      "cell_type": "code",
      "metadata": {
        "id": "iLHuZfQfDBtL"
      },
      "source": [
        "embedding_dim = 16"
      ],
      "execution_count": 30,
      "outputs": []
    },
    {
      "cell_type": "markdown",
      "metadata": {
        "id": "ks25QpDWCyos"
      },
      "source": [
        "**변환 전**"
      ]
    },
    {
      "cell_type": "code",
      "metadata": {
        "id": "HElkj8fSRpA5",
        "colab": {
          "base_uri": "https://localhost:8080/"
        },
        "outputId": "4eb71463-fa48-4d53-ea5f-c645f77aae20"
      },
      "source": [
        "sample = np.array(train_padded[0])\n",
        "sample"
      ],
      "execution_count": 31,
      "outputs": [
        {
          "output_type": "execute_result",
          "data": {
            "text/plain": [
              "array([328,   1, 799,   1,   1,  47, 389,   1,   1,   6,   1,   1,   0,\n",
              "         0,   0,   0,   0,   0,   0,   0,   0,   0,   0,   0,   0,   0,\n",
              "         0,   0,   0,   0,   0,   0,   0,   0,   0,   0,   0,   0,   0,\n",
              "         0,   0,   0,   0,   0,   0,   0,   0,   0,   0,   0,   0,   0,\n",
              "         0,   0,   0,   0,   0,   0,   0,   0,   0,   0,   0,   0,   0,\n",
              "         0,   0,   0,   0,   0,   0,   0,   0,   0,   0,   0,   0,   0,\n",
              "         0,   0,   0,   0,   0,   0,   0,   0,   0,   0,   0,   0,   0,\n",
              "         0,   0,   0,   0,   0,   0,   0,   0,   0,   0,   0,   0,   0,\n",
              "         0,   0,   0,   0,   0,   0,   0,   0,   0,   0,   0,   0,   0,\n",
              "         0,   0,   0], dtype=int32)"
            ]
          },
          "metadata": {},
          "execution_count": 31
        }
      ]
    },
    {
      "cell_type": "markdown",
      "metadata": {
        "id": "LG2vE6amCv7b"
      },
      "source": [
        "**변환 후**"
      ]
    },
    {
      "cell_type": "code",
      "metadata": {
        "id": "HJ-d2D1tRpBM",
        "colab": {
          "base_uri": "https://localhost:8080/"
        },
        "outputId": "2bf28992-ff4f-4fa8-f6b3-770d6e1c4dc4"
      },
      "source": [
        "x = Embedding(vocab_size, embedding_dim, input_length=max_length)\n",
        "x(sample)[0]"
      ],
      "execution_count": 32,
      "outputs": [
        {
          "output_type": "execute_result",
          "data": {
            "text/plain": [
              "<tf.Tensor: shape=(16,), dtype=float32, numpy=\n",
              "array([ 5.7458878e-05,  4.0875677e-02, -4.4290662e-02, -3.5715353e-02,\n",
              "        3.2827798e-02,  2.3663092e-02,  2.0552490e-02, -1.1960112e-02,\n",
              "       -1.5544377e-02, -4.4191040e-02,  4.7139298e-02,  1.4824759e-02,\n",
              "        4.1002620e-02, -4.2116441e-02,  4.8124705e-02, -1.8237364e-02],\n",
              "      dtype=float32)>"
            ]
          },
          "metadata": {},
          "execution_count": 32
        }
      ]
    },
    {
      "cell_type": "markdown",
      "metadata": {
        "id": "ehNYMSChRpBw"
      },
      "source": [
        "## 모델 정의 (Sequential)"
      ]
    },
    {
      "cell_type": "code",
      "metadata": {
        "id": "Jn8t4uehIDW-"
      },
      "source": [
        "model = Sequential([\n",
        "    Embedding(vocab_size, embedding_dim, input_length=max_length),\n",
        "    Bidirectional(LSTM(64, return_sequences=True)),\n",
        "    Bidirectional(LSTM(64)),\n",
        "    Dense(32, activation='relu'),\n",
        "    Dense(16, activation='relu'),\n",
        "    Dense(1, activation='sigmoid')\n",
        "])"
      ],
      "execution_count": 33,
      "outputs": []
    },
    {
      "cell_type": "markdown",
      "metadata": {
        "id": "i6umKCF-D-U3"
      },
      "source": [
        "요약 확인"
      ]
    },
    {
      "cell_type": "code",
      "metadata": {
        "id": "JjmIBD7QD9FV",
        "colab": {
          "base_uri": "https://localhost:8080/"
        },
        "outputId": "1e81c3f6-16d6-44f3-bf2a-cf86c522a3a7"
      },
      "source": [
        "model.summary()"
      ],
      "execution_count": 34,
      "outputs": [
        {
          "output_type": "stream",
          "name": "stdout",
          "text": [
            "Model: \"sequential\"\n",
            "_________________________________________________________________\n",
            " Layer (type)                Output Shape              Param #   \n",
            "=================================================================\n",
            " embedding_1 (Embedding)     (None, 120, 16)           16000     \n",
            "                                                                 \n",
            " bidirectional (Bidirection  (None, 120, 128)          41472     \n",
            " al)                                                             \n",
            "                                                                 \n",
            " bidirectional_1 (Bidirecti  (None, 128)               98816     \n",
            " onal)                                                           \n",
            "                                                                 \n",
            " dense (Dense)               (None, 32)                4128      \n",
            "                                                                 \n",
            " dense_1 (Dense)             (None, 16)                528       \n",
            "                                                                 \n",
            " dense_2 (Dense)             (None, 1)                 17        \n",
            "                                                                 \n",
            "=================================================================\n",
            "Total params: 160961 (628.75 KB)\n",
            "Trainable params: 160961 (628.75 KB)\n",
            "Non-trainable params: 0 (0.00 Byte)\n",
            "_________________________________________________________________\n"
          ]
        }
      ]
    },
    {
      "cell_type": "markdown",
      "metadata": {
        "id": "WCdAX_rXRpB0"
      },
      "source": [
        "## 컴파일 (compile)"
      ]
    },
    {
      "cell_type": "markdown",
      "metadata": {
        "id": "IpJgAudwRpB1"
      },
      "source": [
        "1. `optimizer`는 가장 최적화가 잘되는 알고리즘인 'adam'을 사용합니다.\n",
        "2. `loss`는 이진 분류이기 때문에 `binary_crossentropy`를 사용합니다."
      ]
    },
    {
      "cell_type": "code",
      "metadata": {
        "id": "B2iupQVBRpB1"
      },
      "source": [
        "model.compile(optimizer='adam', loss='binary_crossentropy', metrics=['acc'])"
      ],
      "execution_count": 35,
      "outputs": []
    },
    {
      "cell_type": "markdown",
      "metadata": {
        "id": "yJ0gsuoqSv7z"
      },
      "source": [
        "## ModelCheckpoint: 체크포인트 생성"
      ]
    },
    {
      "cell_type": "markdown",
      "metadata": {
        "id": "oXHmDZ2aSx4O"
      },
      "source": [
        "`val_loss` 기준으로 epoch 마다 최적의 모델을 저장하기 위하여, ModelCheckpoint를 만듭니다.\n",
        "* `checkpoint_path`는 모델이 저장될 파일 명을 설정합니다.\n",
        "* `ModelCheckpoint`을 선언하고, 적절한 옵션 값을 지정합니다."
      ]
    },
    {
      "cell_type": "code",
      "metadata": {
        "id": "v_AvlY0cIDXX"
      },
      "source": [
        "checkpoint_path = 'my_checkpoint.ckpt'\n",
        "checkpoint = ModelCheckpoint(checkpoint_path,\n",
        "                             save_weights_only=True,\n",
        "                             save_best_only=True,\n",
        "                             monitor='val_loss',\n",
        "                             verbose=1)"
      ],
      "execution_count": 36,
      "outputs": []
    },
    {
      "cell_type": "markdown",
      "metadata": {
        "id": "oKy7ZkL6RpB4"
      },
      "source": [
        "## 학습 (fit)"
      ]
    },
    {
      "cell_type": "code",
      "metadata": {
        "id": "lBL_WTG3Er63"
      },
      "source": [
        "epochs=10"
      ],
      "execution_count": 37,
      "outputs": []
    },
    {
      "cell_type": "code",
      "metadata": {
        "id": "byjJCmN_RpB4",
        "colab": {
          "base_uri": "https://localhost:8080/"
        },
        "outputId": "9eff66f7-7709-45a9-c9a7-9608c4bf4842"
      },
      "source": [
        "history = model.fit(train_padded, train_labels,\n",
        "                    validation_data=(validation_padded, validation_labels),\n",
        "                    callbacks=[checkpoint],\n",
        "                    epochs=epochs)"
      ],
      "execution_count": 38,
      "outputs": [
        {
          "output_type": "stream",
          "name": "stdout",
          "text": [
            "Epoch 1/10\n",
            "625/625 [==============================] - ETA: 0s - loss: 0.4530 - acc: 0.7761\n",
            "Epoch 1: val_loss improved from inf to 0.39392, saving model to my_checkpoint.ckpt\n",
            "625/625 [==============================] - 42s 44ms/step - loss: 0.4530 - acc: 0.7761 - val_loss: 0.3939 - val_acc: 0.8141\n",
            "Epoch 2/10\n",
            "623/625 [============================>.] - ETA: 0s - loss: 0.3624 - acc: 0.8342\n",
            "Epoch 2: val_loss improved from 0.39392 to 0.37296, saving model to my_checkpoint.ckpt\n",
            "625/625 [==============================] - 16s 26ms/step - loss: 0.3622 - acc: 0.8345 - val_loss: 0.3730 - val_acc: 0.8299\n",
            "Epoch 3/10\n",
            "625/625 [==============================] - ETA: 0s - loss: 0.3275 - acc: 0.8555\n",
            "Epoch 3: val_loss did not improve from 0.37296\n",
            "625/625 [==============================] - 16s 26ms/step - loss: 0.3275 - acc: 0.8555 - val_loss: 0.3734 - val_acc: 0.8337\n",
            "Epoch 4/10\n",
            "624/625 [============================>.] - ETA: 0s - loss: 0.3077 - acc: 0.8649\n",
            "Epoch 4: val_loss improved from 0.37296 to 0.36471, saving model to my_checkpoint.ckpt\n",
            "625/625 [==============================] - 17s 27ms/step - loss: 0.3075 - acc: 0.8649 - val_loss: 0.3647 - val_acc: 0.8357\n",
            "Epoch 5/10\n",
            "625/625 [==============================] - ETA: 0s - loss: 0.2972 - acc: 0.8696\n",
            "Epoch 5: val_loss did not improve from 0.36471\n",
            "625/625 [==============================] - 15s 24ms/step - loss: 0.2972 - acc: 0.8696 - val_loss: 0.3756 - val_acc: 0.8332\n",
            "Epoch 6/10\n",
            "625/625 [==============================] - ETA: 0s - loss: 0.2897 - acc: 0.8740\n",
            "Epoch 6: val_loss did not improve from 0.36471\n",
            "625/625 [==============================] - 15s 24ms/step - loss: 0.2897 - acc: 0.8740 - val_loss: 0.3793 - val_acc: 0.8272\n",
            "Epoch 7/10\n",
            "625/625 [==============================] - ETA: 0s - loss: 0.2792 - acc: 0.8802\n",
            "Epoch 7: val_loss did not improve from 0.36471\n",
            "625/625 [==============================] - 16s 26ms/step - loss: 0.2792 - acc: 0.8802 - val_loss: 0.3748 - val_acc: 0.8284\n",
            "Epoch 8/10\n",
            "625/625 [==============================] - ETA: 0s - loss: 0.2701 - acc: 0.8830\n",
            "Epoch 8: val_loss did not improve from 0.36471\n",
            "625/625 [==============================] - 16s 26ms/step - loss: 0.2701 - acc: 0.8830 - val_loss: 0.3862 - val_acc: 0.8322\n",
            "Epoch 9/10\n",
            "624/625 [============================>.] - ETA: 0s - loss: 0.2626 - acc: 0.8875\n",
            "Epoch 9: val_loss did not improve from 0.36471\n",
            "625/625 [==============================] - 15s 25ms/step - loss: 0.2625 - acc: 0.8875 - val_loss: 0.4163 - val_acc: 0.8271\n",
            "Epoch 10/10\n",
            "623/625 [============================>.] - ETA: 0s - loss: 0.2561 - acc: 0.8917\n",
            "Epoch 10: val_loss did not improve from 0.36471\n",
            "625/625 [==============================] - 16s 26ms/step - loss: 0.2565 - acc: 0.8914 - val_loss: 0.4244 - val_acc: 0.8272\n"
          ]
        }
      ]
    },
    {
      "cell_type": "markdown",
      "metadata": {
        "id": "shzhTOjAninH"
      },
      "source": [
        "## 학습 완료 후 Load Weights (ModelCheckpoint)"
      ]
    },
    {
      "cell_type": "markdown",
      "metadata": {
        "id": "kLqb_6XrMvdq"
      },
      "source": [
        "학습이 완료된 후에는 반드시 `load_weights`를 해주어야 합니다.\n",
        "\n",
        "그렇지 않으면, 열심히 ModelCheckpoint를 만든 의미가 없습니다."
      ]
    },
    {
      "cell_type": "code",
      "metadata": {
        "id": "4jO1ucZ9ninH",
        "colab": {
          "base_uri": "https://localhost:8080/"
        },
        "outputId": "3dd5a105-3a0d-4f02-ded5-58109551f4be"
      },
      "source": [
        "model.load_weights(checkpoint_path)"
      ],
      "execution_count": 39,
      "outputs": [
        {
          "output_type": "execute_result",
          "data": {
            "text/plain": [
              "<tensorflow.python.checkpoint.checkpoint.CheckpointLoadStatus at 0x7e8248d75720>"
            ]
          },
          "metadata": {},
          "execution_count": 39
        }
      ]
    },
    {
      "cell_type": "markdown",
      "metadata": {
        "id": "1t0xRupR1LmK"
      },
      "source": [
        "## 학습 오차에 대한 시각화"
      ]
    },
    {
      "cell_type": "code",
      "metadata": {
        "id": "wwus5OLdFg2t"
      },
      "source": [
        "import matplotlib.pyplot as plt"
      ],
      "execution_count": 40,
      "outputs": []
    },
    {
      "cell_type": "code",
      "metadata": {
        "id": "luCcz7AUE5Z3",
        "colab": {
          "base_uri": "https://localhost:8080/",
          "height": 803
        },
        "outputId": "617270fa-93be-47b8-fae6-b73e3023db20"
      },
      "source": [
        "plt.figure(figsize=(12, 9))\n",
        "plt.plot(np.arange(1, epochs+1), history.history['loss'])\n",
        "plt.plot(np.arange(1, epochs+1), history.history['val_loss'])\n",
        "plt.title('Loss / Val Loss', fontsize=20)\n",
        "plt.xlabel('Epochs')\n",
        "plt.ylabel('Loss')\n",
        "plt.legend(['loss', 'val_loss'], fontsize=15)\n",
        "plt.show()"
      ],
      "execution_count": 41,
      "outputs": [
        {
          "output_type": "display_data",
          "data": {
            "text/plain": [
              "<Figure size 1200x900 with 1 Axes>"
            ],
            "image/png": "[encoded data removed]"
          },
          "metadata": {}
        }
      ]
    },
    {
      "cell_type": "code",
      "metadata": {
        "id": "W98mqIn0E8bW",
        "colab": {
          "base_uri": "https://localhost:8080/",
          "height": 803
        },
        "outputId": "dd79f485-c776-43af-808e-d44cc933d061"
      },
      "source": [
        "plt.figure(figsize=(12, 9))\n",
        "plt.plot(np.arange(1, epochs+1), history.history['acc'])\n",
        "plt.plot(np.arange(1, epochs+1), history.history['val_acc'])\n",
        "plt.title('Acc / Val Acc', fontsize=20)\n",
        "plt.xlabel('Epochs')\n",
        "plt.ylabel('Acc')\n",
        "plt.legend(['acc', 'val_acc'], fontsize=15)\n",
        "plt.show()"
      ],
      "execution_count": 42,
      "outputs": [
        {
          "output_type": "display_data",
          "data": {
            "text/plain": [
              "<Figure size 1200x900 with 1 Axes>"
            ],
            "image/png": "[encoded data removed]"
          },
          "metadata": {}
        }
      ]
    }
  ]
}