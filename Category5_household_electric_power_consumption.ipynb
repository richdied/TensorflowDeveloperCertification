{
  "nbformat": 4,
  "nbformat_minor": 0,
  "metadata": {
    "colab": {
      "provenance": [],
      "include_colab_link": true
    },
    "kernelspec": {
      "name": "python3",
      "display_name": "Python 3"
    },
    "language_info": {
      "name": "python"
    },
    "accelerator": "GPU"
  },
  "cells": [
    {
      "cell_type": "markdown",
      "metadata": {
        "id": "view-in-github",
        "colab_type": "text"
      },
      "source": [
        "<a href=\"https://colab.research.google.com/github/richdied/TensorflowDeveloperCertification/blob/main/Category5_household_electric_power_consumption.ipynb\" target=\"_parent\"><img src=\"https://colab.research.google.com/assets/colab-badge.svg\" alt=\"Open In Colab\"/></a>"
      ]
    },
    {
      "cell_type": "markdown",
      "metadata": {
        "id": "x8gsfk6OLuGG"
      },
      "source": [
        "# Category 5\n",
        "\n",
        "`Individual House Hold Electric Power Consumption Dataset`을 활용한 예측\n",
        "\n",
        "2021년 7월 1일 신규 업데이트"
      ]
    },
    {
      "cell_type": "markdown",
      "metadata": {
        "id": "4odN9vGLL5vF"
      },
      "source": [
        "## 확인"
      ]
    },
    {
      "cell_type": "markdown",
      "metadata": {
        "id": "zPhkbbfCL6T9"
      },
      "source": [
        "1. GPU 옵션 켜져 있는지 확인할 것!!! (수정 - 노트설정 - 하드웨어설정 (GPU))"
      ]
    },
    {
      "cell_type": "markdown",
      "metadata": {
        "id": "xaFSq4s3L8ht"
      },
      "source": [
        "## 순서"
      ]
    },
    {
      "cell_type": "markdown",
      "metadata": {
        "id": "k-kXOCqfL8eF"
      },
      "source": [
        "1. **import**: 필요한 모듈 import\n",
        "2. **전처리**: 학습에 필요한 데이터 전처리를 수행합니다.\n",
        "3. **모델링(model)**: 모델을 정의합니다.\n",
        "4. **컴파일(compile)**: 모델을 생성합니다.\n",
        "5. **학습 (fit)**: 모델을 학습시킵니다."
      ]
    },
    {
      "cell_type": "markdown",
      "metadata": {
        "id": "Kqk9o1bTL8ZF"
      },
      "source": [
        "## 문제"
      ]
    },
    {
      "cell_type": "markdown",
      "metadata": {
        "id": "XvgGPciAL8QW"
      },
      "source": [
        "ABOUT THE DATASET\n",
        "\n",
        "Original Source:\n",
        "https://archive.ics.uci.edu/ml/datasets/individual+household+electric+power+consumption\n",
        "\n",
        "The original 'Individual House Hold Electric Power Consumption Dataset'\n",
        "has Measurements of electric power consumption in one household with\n",
        "a one-minute sampling rate over a period of almost 4 years.\n",
        "\n",
        "Different electrical quantities and some sub-metering values are available.\n",
        "\n",
        "For the purpose of the examination we have provided a subset containing\n",
        "the data for the first 60 days in the dataset. We have also cleaned the\n",
        "dataset beforehand to remove missing values. The dataset is provided as a\n",
        "csv file in the project.\n",
        "\n",
        "The dataset has a total of 7 features ordered by time.\n",
        "==============================================================================\n",
        "\n",
        "INSTRUCTIONS\n",
        "\n",
        "Complete the code in following functions:\n",
        "1. windowed_dataset()\n",
        "2. solution_model()\n",
        "\n",
        "The model input and output shapes must match the following\n",
        "specifications.\n",
        "\n",
        "1. Model input_shape must be (BATCH_SIZE, N_PAST = 24, N_FEATURES = 7),\n",
        "   since the testing infrastructure expects a window of past N_PAST = 24\n",
        "   observations of the 7 features to predict the next 24 observations of\n",
        "   the same features.\n",
        "\n",
        "2. Model output_shape must be (BATCH_SIZE, N_FUTURE = 24, N_FEATURES = 7)\n",
        "\n",
        "3. DON'T change the values of the following constants\n",
        "   N_PAST, N_FUTURE, SHIFT in the windowed_dataset()\n",
        "   BATCH_SIZE in solution_model() (See code for additional note on\n",
        "   BATCH_SIZE).\n",
        "4. Code for normalizing the data is provided - DON't change it.\n",
        "   Changing the normalizing code will affect your score.\n",
        "\n",
        "HINT: Your neural network must have a **validation MAE of approximately 0.055** or\n",
        "less on the normalized validation dataset for top marks.\n",
        "\n",
        "WARNING: Do not use lambda layers in your model, they are not supported\n",
        "on the grading infrastructure.\n",
        "\n",
        "WARNING: If you are using the GRU layer, it is advised not to use the\n",
        "'recurrent_dropout' argument (you can alternatively set it to 0),\n",
        "since it has not been implemented in the cuDNN kernel and may\n",
        "result in much longer training times."
      ]
    },
    {
      "cell_type": "markdown",
      "metadata": {
        "id": "w7I4VwtsON9H"
      },
      "source": [
        "## 필요한 모듈 import"
      ]
    },
    {
      "cell_type": "code",
      "metadata": {
        "id": "KPbpBIlJ_I4U"
      },
      "source": [
        "import urllib\n",
        "import os\n",
        "import zipfile\n",
        "import pandas as pd\n",
        "\n",
        "import tensorflow as tf\n",
        "from tensorflow.keras.layers import Dense, Conv1D, LSTM, Bidirectional\n",
        "from tensorflow.keras.models import Sequential\n",
        "from tensorflow.keras.callbacks import ModelCheckpoint"
      ],
      "execution_count": 1,
      "outputs": []
    },
    {
      "cell_type": "markdown",
      "metadata": {
        "id": "TpZw2qNyORZO"
      },
      "source": [
        "## 데이터셋 다운로드"
      ]
    },
    {
      "cell_type": "code",
      "metadata": {
        "id": "OTErfPA2OU92"
      },
      "source": [
        "def download_and_extract_data():\n",
        "    url = 'https://storage.googleapis.com/download.tensorflow.org/data/certificate/household_power.zip'\n",
        "    urllib.request.urlretrieve(url, 'household_power.zip')\n",
        "    with zipfile.ZipFile('household_power.zip', 'r') as zip_ref:\n",
        "        zip_ref.extractall()"
      ],
      "execution_count": 2,
      "outputs": []
    },
    {
      "cell_type": "code",
      "metadata": {
        "id": "84yYH8yhOVbG"
      },
      "source": [
        "download_and_extract_data()"
      ],
      "execution_count": 3,
      "outputs": []
    },
    {
      "cell_type": "code",
      "metadata": {
        "colab": {
          "base_uri": "https://localhost:8080/",
          "height": 394
        },
        "id": "D6-31N10OW2u",
        "outputId": "87b6a34e-3397-42c4-ccd4-d704c51efdd7"
      },
      "source": [
        "df = pd.read_csv('household_power_consumption.csv', sep=',', infer_datetime_format=True, index_col='datetime', header=0)\n",
        "df.head(10)"
      ],
      "execution_count": 4,
      "outputs": [
        {
          "output_type": "execute_result",
          "data": {
            "text/plain": [
              "                     Global_active_power  Global_reactive_power  Voltage  \\\n",
              "datetime                                                                   \n",
              "2006-12-16 17:24:00                4.216                  0.418   234.84   \n",
              "2006-12-16 17:25:00                5.360                  0.436   233.63   \n",
              "2006-12-16 17:26:00                5.374                  0.498   233.29   \n",
              "2006-12-16 17:27:00                5.388                  0.502   233.74   \n",
              "2006-12-16 17:28:00                3.666                  0.528   235.68   \n",
              "2006-12-16 17:29:00                3.520                  0.522   235.02   \n",
              "2006-12-16 17:30:00                3.702                  0.520   235.09   \n",
              "2006-12-16 17:31:00                3.700                  0.520   235.22   \n",
              "2006-12-16 17:32:00                3.668                  0.510   233.99   \n",
              "2006-12-16 17:33:00                3.662                  0.510   233.86   \n",
              "\n",
              "                     Global_intensity  Sub_metering_1  Sub_metering_2  \\\n",
              "datetime                                                                \n",
              "2006-12-16 17:24:00              18.4             0.0             1.0   \n",
              "2006-12-16 17:25:00              23.0             0.0             1.0   \n",
              "2006-12-16 17:26:00              23.0             0.0             2.0   \n",
              "2006-12-16 17:27:00              23.0             0.0             1.0   \n",
              "2006-12-16 17:28:00              15.8             0.0             1.0   \n",
              "2006-12-16 17:29:00              15.0             0.0             2.0   \n",
              "2006-12-16 17:30:00              15.8             0.0             1.0   \n",
              "2006-12-16 17:31:00              15.8             0.0             1.0   \n",
              "2006-12-16 17:32:00              15.8             0.0             1.0   \n",
              "2006-12-16 17:33:00              15.8             0.0             2.0   \n",
              "\n",
              "                     Sub_metering_3  \n",
              "datetime                             \n",
              "2006-12-16 17:24:00            17.0  \n",
              "2006-12-16 17:25:00            16.0  \n",
              "2006-12-16 17:26:00            17.0  \n",
              "2006-12-16 17:27:00            17.0  \n",
              "2006-12-16 17:28:00            17.0  \n",
              "2006-12-16 17:29:00            17.0  \n",
              "2006-12-16 17:30:00            17.0  \n",
              "2006-12-16 17:31:00            17.0  \n",
              "2006-12-16 17:32:00            17.0  \n",
              "2006-12-16 17:33:00            16.0  "
            ],
            "text/html": [
              "\n",
              "  <div id=\"df-be4e6f04-13f6-47d5-a0a7-2c2bac557f31\" class=\"colab-df-container\">\n",
              "    <div>\n",
              "<style scoped>\n",
              "    .dataframe tbody tr th:only-of-type {\n",
              "        vertical-align: middle;\n",
              "    }\n",
              "\n",
              "    .dataframe tbody tr th {\n",
              "        vertical-align: top;\n",
              "    }\n",
              "\n",
              "    .dataframe thead th {\n",
              "        text-align: right;\n",
              "    }\n",
              "</style>\n",
              "<table border=\"1\" class=\"dataframe\">\n",
              "  <thead>\n",
              "    <tr style=\"text-align: right;\">\n",
              "      <th></th>\n",
              "      <th>Global_active_power</th>\n",
              "      <th>Global_reactive_power</th>\n",
              "      <th>Voltage</th>\n",
              "      <th>Global_intensity</th>\n",
              "      <th>Sub_metering_1</th>\n",
              "      <th>Sub_metering_2</th>\n",
              "      <th>Sub_metering_3</th>\n",
              "    </tr>\n",
              "    <tr>\n",
              "      <th>datetime</th>\n",
              "      <th></th>\n",
              "      <th></th>\n",
              "      <th></th>\n",
              "      <th></th>\n",
              "      <th></th>\n",
              "      <th></th>\n",
              "      <th></th>\n",
              "    </tr>\n",
              "  </thead>\n",
              "  <tbody>\n",
              "    <tr>\n",
              "      <th>2006-12-16 17:24:00</th>\n",
              "      <td>4.216</td>\n",
              "      <td>0.418</td>\n",
              "      <td>234.84</td>\n",
              "      <td>18.4</td>\n",
              "      <td>0.0</td>\n",
              "      <td>1.0</td>\n",
              "      <td>17.0</td>\n",
              "    </tr>\n",
              "    <tr>\n",
              "      <th>2006-12-16 17:25:00</th>\n",
              "      <td>5.360</td>\n",
              "      <td>0.436</td>\n",
              "      <td>233.63</td>\n",
              "      <td>23.0</td>\n",
              "      <td>0.0</td>\n",
              "      <td>1.0</td>\n",
              "      <td>16.0</td>\n",
              "    </tr>\n",
              "    <tr>\n",
              "      <th>2006-12-16 17:26:00</th>\n",
              "      <td>5.374</td>\n",
              "      <td>0.498</td>\n",
              "      <td>233.29</td>\n",
              "      <td>23.0</td>\n",
              "      <td>0.0</td>\n",
              "      <td>2.0</td>\n",
              "      <td>17.0</td>\n",
              "    </tr>\n",
              "    <tr>\n",
              "      <th>2006-12-16 17:27:00</th>\n",
              "      <td>5.388</td>\n",
              "      <td>0.502</td>\n",
              "      <td>233.74</td>\n",
              "      <td>23.0</td>\n",
              "      <td>0.0</td>\n",
              "      <td>1.0</td>\n",
              "      <td>17.0</td>\n",
              "    </tr>\n",
              "    <tr>\n",
              "      <th>2006-12-16 17:28:00</th>\n",
              "      <td>3.666</td>\n",
              "      <td>0.528</td>\n",
              "      <td>235.68</td>\n",
              "      <td>15.8</td>\n",
              "      <td>0.0</td>\n",
              "      <td>1.0</td>\n",
              "      <td>17.0</td>\n",
              "    </tr>\n",
              "    <tr>\n",
              "      <th>2006-12-16 17:29:00</th>\n",
              "      <td>3.520</td>\n",
              "      <td>0.522</td>\n",
              "      <td>235.02</td>\n",
              "      <td>15.0</td>\n",
              "      <td>0.0</td>\n",
              "      <td>2.0</td>\n",
              "      <td>17.0</td>\n",
              "    </tr>\n",
              "    <tr>\n",
              "      <th>2006-12-16 17:30:00</th>\n",
              "      <td>3.702</td>\n",
              "      <td>0.520</td>\n",
              "      <td>235.09</td>\n",
              "      <td>15.8</td>\n",
              "      <td>0.0</td>\n",
              "      <td>1.0</td>\n",
              "      <td>17.0</td>\n",
              "    </tr>\n",
              "    <tr>\n",
              "      <th>2006-12-16 17:31:00</th>\n",
              "      <td>3.700</td>\n",
              "      <td>0.520</td>\n",
              "      <td>235.22</td>\n",
              "      <td>15.8</td>\n",
              "      <td>0.0</td>\n",
              "      <td>1.0</td>\n",
              "      <td>17.0</td>\n",
              "    </tr>\n",
              "    <tr>\n",
              "      <th>2006-12-16 17:32:00</th>\n",
              "      <td>3.668</td>\n",
              "      <td>0.510</td>\n",
              "      <td>233.99</td>\n",
              "      <td>15.8</td>\n",
              "      <td>0.0</td>\n",
              "      <td>1.0</td>\n",
              "      <td>17.0</td>\n",
              "    </tr>\n",
              "    <tr>\n",
              "      <th>2006-12-16 17:33:00</th>\n",
              "      <td>3.662</td>\n",
              "      <td>0.510</td>\n",
              "      <td>233.86</td>\n",
              "      <td>15.8</td>\n",
              "      <td>0.0</td>\n",
              "      <td>2.0</td>\n",
              "      <td>16.0</td>\n",
              "    </tr>\n",
              "  </tbody>\n",
              "</table>\n",
              "</div>\n",
              "    <div class=\"colab-df-buttons\">\n",
              "\n",
              "  <div class=\"colab-df-container\">\n",
              "    <button class=\"colab-df-convert\" onclick=\"convertToInteractive('df-be4e6f04-13f6-47d5-a0a7-2c2bac557f31')\"\n",
              "            title=\"Convert this dataframe to an interactive table.\"\n",
              "            style=\"display:none;\">\n",
              "\n",
              "  <svg xmlns=\"http://www.w3.org/2000/svg\" height=\"24px\" viewBox=\"0 -960 960 960\">\n",
              "    <path d=\"M120-120v-720h720v720H120Zm60-500h600v-160H180v160Zm220 220h160v-160H400v160Zm0 220h160v-160H400v160ZM180-400h160v-160H180v160Zm440 0h160v-160H620v160ZM180-180h160v-160H180v160Zm440 0h160v-160H620v160Z\"/>\n",
              "  </svg>\n",
              "    </button>\n",
              "\n",
              "  <style>\n",
              "    .colab-df-container {\n",
              "      display:flex;\n",
              "      gap: 12px;\n",
              "    }\n",
              "\n",
              "    .colab-df-convert {\n",
              "      background-color: #E8F0FE;\n",
              "      border: none;\n",
              "      border-radius: 50%;\n",
              "      cursor: pointer;\n",
              "      display: none;\n",
              "      fill: #1967D2;\n",
              "      height: 32px;\n",
              "      padding: 0 0 0 0;\n",
              "      width: 32px;\n",
              "    }\n",
              "\n",
              "    .colab-df-convert:hover {\n",
              "      background-color: #E2EBFA;\n",
              "      box-shadow: 0px 1px 2px rgba(60, 64, 67, 0.3), 0px 1px 3px 1px rgba(60, 64, 67, 0.15);\n",
              "      fill: #174EA6;\n",
              "    }\n",
              "\n",
              "    .colab-df-buttons div {\n",
              "      margin-bottom: 4px;\n",
              "    }\n",
              "\n",
              "    [theme=dark] .colab-df-convert {\n",
              "      background-color: #3B4455;\n",
              "      fill: #D2E3FC;\n",
              "    }\n",
              "\n",
              "    [theme=dark] .colab-df-convert:hover {\n",
              "      background-color: #434B5C;\n",
              "      box-shadow: 0px 1px 3px 1px rgba(0, 0, 0, 0.15);\n",
              "      filter: drop-shadow(0px 1px 2px rgba(0, 0, 0, 0.3));\n",
              "      fill: #FFFFFF;\n",
              "    }\n",
              "  </style>\n",
              "\n",
              "    <script>\n",
              "      const buttonEl =\n",
              "        document.querySelector('#df-be4e6f04-13f6-47d5-a0a7-2c2bac557f31 button.colab-df-convert');\n",
              "      buttonEl.style.display =\n",
              "        google.colab.kernel.accessAllowed ? 'block' : 'none';\n",
              "\n",
              "      async function convertToInteractive(key) {\n",
              "        const element = document.querySelector('#df-be4e6f04-13f6-47d5-a0a7-2c2bac557f31');\n",
              "        const dataTable =\n",
              "          await google.colab.kernel.invokeFunction('convertToInteractive',\n",
              "                                                    [key], {});\n",
              "        if (!dataTable) return;\n",
              "\n",
              "        const docLinkHtml = 'Like what you see? Visit the ' +\n",
              "          '<a target=\"_blank\" href=https://colab.research.google.com/notebooks/data_table.ipynb>data table notebook</a>'\n",
              "          + ' to learn more about interactive tables.';\n",
              "        element.innerHTML = '';\n",
              "        dataTable['output_type'] = 'display_data';\n",
              "        await google.colab.output.renderOutput(dataTable, element);\n",
              "        const docLink = document.createElement('div');\n",
              "        docLink.innerHTML = docLinkHtml;\n",
              "        element.appendChild(docLink);\n",
              "      }\n",
              "    </script>\n",
              "  </div>\n",
              "\n",
              "\n",
              "<div id=\"df-6728772f-2807-420a-a122-3b9b8be9b3b7\">\n",
              "  <button class=\"colab-df-quickchart\" onclick=\"quickchart('df-6728772f-2807-420a-a122-3b9b8be9b3b7')\"\n",
              "            title=\"Suggest charts\"\n",
              "            style=\"display:none;\">\n",
              "\n",
              "<svg xmlns=\"http://www.w3.org/2000/svg\" height=\"24px\"viewBox=\"0 0 24 24\"\n",
              "     width=\"24px\">\n",
              "    <g>\n",
              "        <path d=\"M19 3H5c-1.1 0-2 .9-2 2v14c0 1.1.9 2 2 2h14c1.1 0 2-.9 2-2V5c0-1.1-.9-2-2-2zM9 17H7v-7h2v7zm4 0h-2V7h2v10zm4 0h-2v-4h2v4z\"/>\n",
              "    </g>\n",
              "</svg>\n",
              "  </button>\n",
              "\n",
              "<style>\n",
              "  .colab-df-quickchart {\n",
              "      --bg-color: #E8F0FE;\n",
              "      --fill-color: #1967D2;\n",
              "      --hover-bg-color: #E2EBFA;\n",
              "      --hover-fill-color: #174EA6;\n",
              "      --disabled-fill-color: #AAA;\n",
              "      --disabled-bg-color: #DDD;\n",
              "  }\n",
              "\n",
              "  [theme=dark] .colab-df-quickchart {\n",
              "      --bg-color: #3B4455;\n",
              "      --fill-color: #D2E3FC;\n",
              "      --hover-bg-color: #434B5C;\n",
              "      --hover-fill-color: #FFFFFF;\n",
              "      --disabled-bg-color: #3B4455;\n",
              "      --disabled-fill-color: #666;\n",
              "  }\n",
              "\n",
              "  .colab-df-quickchart {\n",
              "    background-color: var(--bg-color);\n",
              "    border: none;\n",
              "    border-radius: 50%;\n",
              "    cursor: pointer;\n",
              "    display: none;\n",
              "    fill: var(--fill-color);\n",
              "    height: 32px;\n",
              "    padding: 0;\n",
              "    width: 32px;\n",
              "  }\n",
              "\n",
              "  .colab-df-quickchart:hover {\n",
              "    background-color: var(--hover-bg-color);\n",
              "    box-shadow: 0 1px 2px rgba(60, 64, 67, 0.3), 0 1px 3px 1px rgba(60, 64, 67, 0.15);\n",
              "    fill: var(--button-hover-fill-color);\n",
              "  }\n",
              "\n",
              "  .colab-df-quickchart-complete:disabled,\n",
              "  .colab-df-quickchart-complete:disabled:hover {\n",
              "    background-color: var(--disabled-bg-color);\n",
              "    fill: var(--disabled-fill-color);\n",
              "    box-shadow: none;\n",
              "  }\n",
              "\n",
              "  .colab-df-spinner {\n",
              "    border: 2px solid var(--fill-color);\n",
              "    border-color: transparent;\n",
              "    border-bottom-color: var(--fill-color);\n",
              "    animation:\n",
              "      spin 1s steps(1) infinite;\n",
              "  }\n",
              "\n",
              "  @keyframes spin {\n",
              "    0% {\n",
              "      border-color: transparent;\n",
              "      border-bottom-color: var(--fill-color);\n",
              "      border-left-color: var(--fill-color);\n",
              "    }\n",
              "    20% {\n",
              "      border-color: transparent;\n",
              "      border-left-color: var(--fill-color);\n",
              "      border-top-color: var(--fill-color);\n",
              "    }\n",
              "    30% {\n",
              "      border-color: transparent;\n",
              "      border-left-color: var(--fill-color);\n",
              "      border-top-color: var(--fill-color);\n",
              "      border-right-color: var(--fill-color);\n",
              "    }\n",
              "    40% {\n",
              "      border-color: transparent;\n",
              "      border-right-color: var(--fill-color);\n",
              "      border-top-color: var(--fill-color);\n",
              "    }\n",
              "    60% {\n",
              "      border-color: transparent;\n",
              "      border-right-color: var(--fill-color);\n",
              "    }\n",
              "    80% {\n",
              "      border-color: transparent;\n",
              "      border-right-color: var(--fill-color);\n",
              "      border-bottom-color: var(--fill-color);\n",
              "    }\n",
              "    90% {\n",
              "      border-color: transparent;\n",
              "      border-bottom-color: var(--fill-color);\n",
              "    }\n",
              "  }\n",
              "</style>\n",
              "\n",
              "  <script>\n",
              "    async function quickchart(key) {\n",
              "      const quickchartButtonEl =\n",
              "        document.querySelector('#' + key + ' button');\n",
              "      quickchartButtonEl.disabled = true;  // To prevent multiple clicks.\n",
              "      quickchartButtonEl.classList.add('colab-df-spinner');\n",
              "      try {\n",
              "        const charts = await google.colab.kernel.invokeFunction(\n",
              "            'suggestCharts', [key], {});\n",
              "      } catch (error) {\n",
              "        console.error('Error during call to suggestCharts:', error);\n",
              "      }\n",
              "      quickchartButtonEl.classList.remove('colab-df-spinner');\n",
              "      quickchartButtonEl.classList.add('colab-df-quickchart-complete');\n",
              "    }\n",
              "    (() => {\n",
              "      let quickchartButtonEl =\n",
              "        document.querySelector('#df-6728772f-2807-420a-a122-3b9b8be9b3b7 button');\n",
              "      quickchartButtonEl.style.display =\n",
              "        google.colab.kernel.accessAllowed ? 'block' : 'none';\n",
              "    })();\n",
              "  </script>\n",
              "</div>\n",
              "    </div>\n",
              "  </div>\n"
            ]
          },
          "metadata": {},
          "execution_count": 4
        }
      ]
    },
    {
      "cell_type": "markdown",
      "metadata": {
        "id": "W8T_IULIOaTu"
      },
      "source": [
        "## 데이터 정규화\n",
        "\n",
        "데이터의 스케일(Scale)을 0 ~ 1 사이로 정규화 합니다."
      ]
    },
    {
      "cell_type": "code",
      "metadata": {
        "id": "Ujr6nyzkOZem"
      },
      "source": [
        "def normalize_series(data, min, max):\n",
        "    data = data - min\n",
        "    data = data / max\n",
        "    return data"
      ],
      "execution_count": 5,
      "outputs": []
    },
    {
      "cell_type": "code",
      "metadata": {
        "colab": {
          "base_uri": "https://localhost:8080/"
        },
        "id": "C6DSkBjMOsOc",
        "outputId": "a5fd746a-6840-4c89-ce78-f49a366f5a45"
      },
      "source": [
        "# FEATURES에 데이터프레임의 Column 개수 대입\n",
        "N_FEATURES = len(df.columns)\n",
        "\n",
        "# 데이터프레임을 numpy array으로 가져와 data에 대입\n",
        "data = df.values\n",
        "\n",
        "# 데이터 정규화\n",
        "data = normalize_series(data, data.min(axis=0), data.max(axis=0))\n",
        "data"
      ],
      "execution_count": 6,
      "outputs": [
        {
          "output_type": "execute_result",
          "data": {
            "text/plain": [
              "array([[0.43377912, 0.47826087, 0.04036551, ..., 0.        , 0.01282051,\n",
              "        0.85      ],\n",
              "       [0.55716135, 0.49885584, 0.0355582 , ..., 0.        , 0.01282051,\n",
              "        0.8       ],\n",
              "       [0.55867127, 0.56979405, 0.03420739, ..., 0.        , 0.02564103,\n",
              "        0.85      ],\n",
              "       ...,\n",
              "       [0.03710095, 0.        , 0.05983313, ..., 0.        , 0.        ,\n",
              "        0.        ],\n",
              "       [0.03559103, 0.        , 0.06515693, ..., 0.        , 0.        ,\n",
              "        0.        ],\n",
              "       [0.03774806, 0.        , 0.06730234, ..., 0.        , 0.01282051,\n",
              "        0.        ]])"
            ]
          },
          "metadata": {},
          "execution_count": 6
        }
      ]
    },
    {
      "cell_type": "code",
      "metadata": {
        "colab": {
          "base_uri": "https://localhost:8080/",
          "height": 300
        },
        "id": "1eOHSnw5Sgr1",
        "outputId": "ee14f5fa-5970-40fc-d729-04f6862e16c6"
      },
      "source": [
        "pd.DataFrame(data).describe()"
      ],
      "execution_count": 7,
      "outputs": [
        {
          "output_type": "execute_result",
          "data": {
            "text/plain": [
              "                  0             1             2             3             4  \\\n",
              "count  86400.000000  86400.000000  86400.000000  86400.000000  86400.000000   \n",
              "mean       0.156411      0.147141      0.064697      0.152278      0.016950   \n",
              "std        0.144040      0.134578      0.013900      0.139343      0.086787   \n",
              "min        0.000000      0.000000      0.000000      0.000000      0.000000   \n",
              "25%        0.021786      0.000000      0.055344      0.024752      0.000000   \n",
              "50%        0.131795      0.132723      0.065713      0.123762      0.000000   \n",
              "75%        0.239431      0.224256      0.074652      0.227723      0.000000   \n",
              "max        0.979077      1.000000      0.107350      0.980198      1.000000   \n",
              "\n",
              "                  5             6  \n",
              "count  86400.000000  86400.000000  \n",
              "mean       0.024085      0.375711  \n",
              "std        0.097022      0.433595  \n",
              "min        0.000000      0.000000  \n",
              "25%        0.000000      0.000000  \n",
              "50%        0.000000      0.000000  \n",
              "75%        0.012821      0.850000  \n",
              "max        1.000000      1.000000  "
            ],
            "text/html": [
              "\n",
              "  <div id=\"df-c15f76e6-1d19-4ed3-9782-806fc30ccc02\" class=\"colab-df-container\">\n",
              "    <div>\n",
              "<style scoped>\n",
              "    .dataframe tbody tr th:only-of-type {\n",
              "        vertical-align: middle;\n",
              "    }\n",
              "\n",
              "    .dataframe tbody tr th {\n",
              "        vertical-align: top;\n",
              "    }\n",
              "\n",
              "    .dataframe thead th {\n",
              "        text-align: right;\n",
              "    }\n",
              "</style>\n",
              "<table border=\"1\" class=\"dataframe\">\n",
              "  <thead>\n",
              "    <tr style=\"text-align: right;\">\n",
              "      <th></th>\n",
              "      <th>0</th>\n",
              "      <th>1</th>\n",
              "      <th>2</th>\n",
              "      <th>3</th>\n",
              "      <th>4</th>\n",
              "      <th>5</th>\n",
              "      <th>6</th>\n",
              "    </tr>\n",
              "  </thead>\n",
              "  <tbody>\n",
              "    <tr>\n",
              "      <th>count</th>\n",
              "      <td>86400.000000</td>\n",
              "      <td>86400.000000</td>\n",
              "      <td>86400.000000</td>\n",
              "      <td>86400.000000</td>\n",
              "      <td>86400.000000</td>\n",
              "      <td>86400.000000</td>\n",
              "      <td>86400.000000</td>\n",
              "    </tr>\n",
              "    <tr>\n",
              "      <th>mean</th>\n",
              "      <td>0.156411</td>\n",
              "      <td>0.147141</td>\n",
              "      <td>0.064697</td>\n",
              "      <td>0.152278</td>\n",
              "      <td>0.016950</td>\n",
              "      <td>0.024085</td>\n",
              "      <td>0.375711</td>\n",
              "    </tr>\n",
              "    <tr>\n",
              "      <th>std</th>\n",
              "      <td>0.144040</td>\n",
              "      <td>0.134578</td>\n",
              "      <td>0.013900</td>\n",
              "      <td>0.139343</td>\n",
              "      <td>0.086787</td>\n",
              "      <td>0.097022</td>\n",
              "      <td>0.433595</td>\n",
              "    </tr>\n",
              "    <tr>\n",
              "      <th>min</th>\n",
              "      <td>0.000000</td>\n",
              "      <td>0.000000</td>\n",
              "      <td>0.000000</td>\n",
              "      <td>0.000000</td>\n",
              "      <td>0.000000</td>\n",
              "      <td>0.000000</td>\n",
              "      <td>0.000000</td>\n",
              "    </tr>\n",
              "    <tr>\n",
              "      <th>25%</th>\n",
              "      <td>0.021786</td>\n",
              "      <td>0.000000</td>\n",
              "      <td>0.055344</td>\n",
              "      <td>0.024752</td>\n",
              "      <td>0.000000</td>\n",
              "      <td>0.000000</td>\n",
              "      <td>0.000000</td>\n",
              "    </tr>\n",
              "    <tr>\n",
              "      <th>50%</th>\n",
              "      <td>0.131795</td>\n",
              "      <td>0.132723</td>\n",
              "      <td>0.065713</td>\n",
              "      <td>0.123762</td>\n",
              "      <td>0.000000</td>\n",
              "      <td>0.000000</td>\n",
              "      <td>0.000000</td>\n",
              "    </tr>\n",
              "    <tr>\n",
              "      <th>75%</th>\n",
              "      <td>0.239431</td>\n",
              "      <td>0.224256</td>\n",
              "      <td>0.074652</td>\n",
              "      <td>0.227723</td>\n",
              "      <td>0.000000</td>\n",
              "      <td>0.012821</td>\n",
              "      <td>0.850000</td>\n",
              "    </tr>\n",
              "    <tr>\n",
              "      <th>max</th>\n",
              "      <td>0.979077</td>\n",
              "      <td>1.000000</td>\n",
              "      <td>0.107350</td>\n",
              "      <td>0.980198</td>\n",
              "      <td>1.000000</td>\n",
              "      <td>1.000000</td>\n",
              "      <td>1.000000</td>\n",
              "    </tr>\n",
              "  </tbody>\n",
              "</table>\n",
              "</div>\n",
              "    <div class=\"colab-df-buttons\">\n",
              "\n",
              "  <div class=\"colab-df-container\">\n",
              "    <button class=\"colab-df-convert\" onclick=\"convertToInteractive('df-c15f76e6-1d19-4ed3-9782-806fc30ccc02')\"\n",
              "            title=\"Convert this dataframe to an interactive table.\"\n",
              "            style=\"display:none;\">\n",
              "\n",
              "  <svg xmlns=\"http://www.w3.org/2000/svg\" height=\"24px\" viewBox=\"0 -960 960 960\">\n",
              "    <path d=\"M120-120v-720h720v720H120Zm60-500h600v-160H180v160Zm220 220h160v-160H400v160Zm0 220h160v-160H400v160ZM180-400h160v-160H180v160Zm440 0h160v-160H620v160ZM180-180h160v-160H180v160Zm440 0h160v-160H620v160Z\"/>\n",
              "  </svg>\n",
              "    </button>\n",
              "\n",
              "  <style>\n",
              "    .colab-df-container {\n",
              "      display:flex;\n",
              "      gap: 12px;\n",
              "    }\n",
              "\n",
              "    .colab-df-convert {\n",
              "      background-color: #E8F0FE;\n",
              "      border: none;\n",
              "      border-radius: 50%;\n",
              "      cursor: pointer;\n",
              "      display: none;\n",
              "      fill: #1967D2;\n",
              "      height: 32px;\n",
              "      padding: 0 0 0 0;\n",
              "      width: 32px;\n",
              "    }\n",
              "\n",
              "    .colab-df-convert:hover {\n",
              "      background-color: #E2EBFA;\n",
              "      box-shadow: 0px 1px 2px rgba(60, 64, 67, 0.3), 0px 1px 3px 1px rgba(60, 64, 67, 0.15);\n",
              "      fill: #174EA6;\n",
              "    }\n",
              "\n",
              "    .colab-df-buttons div {\n",
              "      margin-bottom: 4px;\n",
              "    }\n",
              "\n",
              "    [theme=dark] .colab-df-convert {\n",
              "      background-color: #3B4455;\n",
              "      fill: #D2E3FC;\n",
              "    }\n",
              "\n",
              "    [theme=dark] .colab-df-convert:hover {\n",
              "      background-color: #434B5C;\n",
              "      box-shadow: 0px 1px 3px 1px rgba(0, 0, 0, 0.15);\n",
              "      filter: drop-shadow(0px 1px 2px rgba(0, 0, 0, 0.3));\n",
              "      fill: #FFFFFF;\n",
              "    }\n",
              "  </style>\n",
              "\n",
              "    <script>\n",
              "      const buttonEl =\n",
              "        document.querySelector('#df-c15f76e6-1d19-4ed3-9782-806fc30ccc02 button.colab-df-convert');\n",
              "      buttonEl.style.display =\n",
              "        google.colab.kernel.accessAllowed ? 'block' : 'none';\n",
              "\n",
              "      async function convertToInteractive(key) {\n",
              "        const element = document.querySelector('#df-c15f76e6-1d19-4ed3-9782-806fc30ccc02');\n",
              "        const dataTable =\n",
              "          await google.colab.kernel.invokeFunction('convertToInteractive',\n",
              "                                                    [key], {});\n",
              "        if (!dataTable) return;\n",
              "\n",
              "        const docLinkHtml = 'Like what you see? Visit the ' +\n",
              "          '<a target=\"_blank\" href=https://colab.research.google.com/notebooks/data_table.ipynb>data table notebook</a>'\n",
              "          + ' to learn more about interactive tables.';\n",
              "        element.innerHTML = '';\n",
              "        dataTable['output_type'] = 'display_data';\n",
              "        await google.colab.output.renderOutput(dataTable, element);\n",
              "        const docLink = document.createElement('div');\n",
              "        docLink.innerHTML = docLinkHtml;\n",
              "        element.appendChild(docLink);\n",
              "      }\n",
              "    </script>\n",
              "  </div>\n",
              "\n",
              "\n",
              "<div id=\"df-000de2d4-8ad7-42c3-83f9-ffe3b4f3c3a0\">\n",
              "  <button class=\"colab-df-quickchart\" onclick=\"quickchart('df-000de2d4-8ad7-42c3-83f9-ffe3b4f3c3a0')\"\n",
              "            title=\"Suggest charts\"\n",
              "            style=\"display:none;\">\n",
              "\n",
              "<svg xmlns=\"http://www.w3.org/2000/svg\" height=\"24px\"viewBox=\"0 0 24 24\"\n",
              "     width=\"24px\">\n",
              "    <g>\n",
              "        <path d=\"M19 3H5c-1.1 0-2 .9-2 2v14c0 1.1.9 2 2 2h14c1.1 0 2-.9 2-2V5c0-1.1-.9-2-2-2zM9 17H7v-7h2v7zm4 0h-2V7h2v10zm4 0h-2v-4h2v4z\"/>\n",
              "    </g>\n",
              "</svg>\n",
              "  </button>\n",
              "\n",
              "<style>\n",
              "  .colab-df-quickchart {\n",
              "      --bg-color: #E8F0FE;\n",
              "      --fill-color: #1967D2;\n",
              "      --hover-bg-color: #E2EBFA;\n",
              "      --hover-fill-color: #174EA6;\n",
              "      --disabled-fill-color: #AAA;\n",
              "      --disabled-bg-color: #DDD;\n",
              "  }\n",
              "\n",
              "  [theme=dark] .colab-df-quickchart {\n",
              "      --bg-color: #3B4455;\n",
              "      --fill-color: #D2E3FC;\n",
              "      --hover-bg-color: #434B5C;\n",
              "      --hover-fill-color: #FFFFFF;\n",
              "      --disabled-bg-color: #3B4455;\n",
              "      --disabled-fill-color: #666;\n",
              "  }\n",
              "\n",
              "  .colab-df-quickchart {\n",
              "    background-color: var(--bg-color);\n",
              "    border: none;\n",
              "    border-radius: 50%;\n",
              "    cursor: pointer;\n",
              "    display: none;\n",
              "    fill: var(--fill-color);\n",
              "    height: 32px;\n",
              "    padding: 0;\n",
              "    width: 32px;\n",
              "  }\n",
              "\n",
              "  .colab-df-quickchart:hover {\n",
              "    background-color: var(--hover-bg-color);\n",
              "    box-shadow: 0 1px 2px rgba(60, 64, 67, 0.3), 0 1px 3px 1px rgba(60, 64, 67, 0.15);\n",
              "    fill: var(--button-hover-fill-color);\n",
              "  }\n",
              "\n",
              "  .colab-df-quickchart-complete:disabled,\n",
              "  .colab-df-quickchart-complete:disabled:hover {\n",
              "    background-color: var(--disabled-bg-color);\n",
              "    fill: var(--disabled-fill-color);\n",
              "    box-shadow: none;\n",
              "  }\n",
              "\n",
              "  .colab-df-spinner {\n",
              "    border: 2px solid var(--fill-color);\n",
              "    border-color: transparent;\n",
              "    border-bottom-color: var(--fill-color);\n",
              "    animation:\n",
              "      spin 1s steps(1) infinite;\n",
              "  }\n",
              "\n",
              "  @keyframes spin {\n",
              "    0% {\n",
              "      border-color: transparent;\n",
              "      border-bottom-color: var(--fill-color);\n",
              "      border-left-color: var(--fill-color);\n",
              "    }\n",
              "    20% {\n",
              "      border-color: transparent;\n",
              "      border-left-color: var(--fill-color);\n",
              "      border-top-color: var(--fill-color);\n",
              "    }\n",
              "    30% {\n",
              "      border-color: transparent;\n",
              "      border-left-color: var(--fill-color);\n",
              "      border-top-color: var(--fill-color);\n",
              "      border-right-color: var(--fill-color);\n",
              "    }\n",
              "    40% {\n",
              "      border-color: transparent;\n",
              "      border-right-color: var(--fill-color);\n",
              "      border-top-color: var(--fill-color);\n",
              "    }\n",
              "    60% {\n",
              "      border-color: transparent;\n",
              "      border-right-color: var(--fill-color);\n",
              "    }\n",
              "    80% {\n",
              "      border-color: transparent;\n",
              "      border-right-color: var(--fill-color);\n",
              "      border-bottom-color: var(--fill-color);\n",
              "    }\n",
              "    90% {\n",
              "      border-color: transparent;\n",
              "      border-bottom-color: var(--fill-color);\n",
              "    }\n",
              "  }\n",
              "</style>\n",
              "\n",
              "  <script>\n",
              "    async function quickchart(key) {\n",
              "      const quickchartButtonEl =\n",
              "        document.querySelector('#' + key + ' button');\n",
              "      quickchartButtonEl.disabled = true;  // To prevent multiple clicks.\n",
              "      quickchartButtonEl.classList.add('colab-df-spinner');\n",
              "      try {\n",
              "        const charts = await google.colab.kernel.invokeFunction(\n",
              "            'suggestCharts', [key], {});\n",
              "      } catch (error) {\n",
              "        console.error('Error during call to suggestCharts:', error);\n",
              "      }\n",
              "      quickchartButtonEl.classList.remove('colab-df-spinner');\n",
              "      quickchartButtonEl.classList.add('colab-df-quickchart-complete');\n",
              "    }\n",
              "    (() => {\n",
              "      let quickchartButtonEl =\n",
              "        document.querySelector('#df-000de2d4-8ad7-42c3-83f9-ffe3b4f3c3a0 button');\n",
              "      quickchartButtonEl.style.display =\n",
              "        google.colab.kernel.accessAllowed ? 'block' : 'none';\n",
              "    })();\n",
              "  </script>\n",
              "</div>\n",
              "    </div>\n",
              "  </div>\n"
            ]
          },
          "metadata": {},
          "execution_count": 7
        }
      ]
    },
    {
      "cell_type": "markdown",
      "metadata": {
        "id": "vDlrFALf87hk"
      },
      "source": [
        "## 데이터 분할"
      ]
    },
    {
      "cell_type": "code",
      "metadata": {
        "id": "tb_FY89o9OIk"
      },
      "source": [
        "# 데이터셋 분할 (0.8).\n",
        "# 기존 0.5 -> 0.8로 변경 // 다른 비율로 변경 가능\n",
        "split_time = int(len(data) * 0.8)"
      ],
      "execution_count": 8,
      "outputs": []
    },
    {
      "cell_type": "code",
      "metadata": {
        "id": "81keVjW29AXD"
      },
      "source": [
        "x_train = data[:split_time]\n",
        "x_valid = data[split_time:]"
      ],
      "execution_count": 9,
      "outputs": []
    },
    {
      "cell_type": "markdown",
      "metadata": {
        "id": "_crFBEHu89mR"
      },
      "source": [
        "## Windowed Dataset 생성"
      ]
    },
    {
      "cell_type": "markdown",
      "metadata": {
        "id": "jH_QOZ0p00hO"
      },
      "source": [
        "This line converts the dataset into a windowed dataset where a\n",
        "window consists of both the observations to be included as features and the targets.\n",
        "\n",
        "Don't change the shift parameter. The test windows are\n",
        "created with the specified shift and hence it might affect your\n",
        "scores. Calculate the window size so that based on the **past 24 observations (observations at time steps t=1,t=2,...t=24) of the 7 variables**\n",
        "\n",
        "in the dataset, you predict the **next 24 observations\n",
        "(observations at time steps t=25,t=26....t=48) of the 7 variables of the dataset.**\n",
        "\n",
        "Hint: Each window should include both the past observations and\n",
        "the future observations which are to be predicted. Calculate the\n",
        "window size based on n_past and n_future."
      ]
    },
    {
      "cell_type": "code",
      "metadata": {
        "id": "frxkiKXxLbJu"
      },
      "source": [
        "def windowed_dataset(series, batch_size, n_past=24, n_future=24, shift=1):\n",
        "    ds = tf.data.Dataset.from_tensor_slices(series)\n",
        "    ds = ds.window(size=(n_past + n_future), shift = shift, drop_remainder = True)\n",
        "    ds = ds.flat_map(lambda w: w.batch(n_past + n_future))\n",
        "    ds = ds.shuffle(len(series))\n",
        "    ds = ds.map(\n",
        "        lambda w: (w[:n_past], w[n_past:])\n",
        "    )\n",
        "    return ds.batch(batch_size).prefetch(1)"
      ],
      "execution_count": 10,
      "outputs": []
    },
    {
      "cell_type": "markdown",
      "metadata": {
        "id": "c-hBQxDf4s6c"
      },
      "source": [
        "`train_set`과 `valid_set`을 생성합니다."
      ]
    },
    {
      "cell_type": "code",
      "metadata": {
        "id": "wVFQ99wf9YO8"
      },
      "source": [
        "# 다음 4개의 옵션은 주어 집니다.\n",
        "BATCH_SIZE = 32 # 변경 가능하나 더 올리는 것은 비추 (내리는 것은 가능하나 시간 오래 걸림)\n",
        "N_PAST = 24 # 변경 불가.\n",
        "N_FUTURE = 24 # 변경 불가.\n",
        "SHIFT = 1 # 변경 불가."
      ],
      "execution_count": 11,
      "outputs": []
    },
    {
      "cell_type": "code",
      "metadata": {
        "id": "SJbUkp1W4n-z"
      },
      "source": [
        "train_set = windowed_dataset(series=x_train,\n",
        "                             batch_size=BATCH_SIZE,\n",
        "                             n_past=N_PAST,\n",
        "                             n_future=N_FUTURE,\n",
        "                             shift=SHIFT)\n",
        "\n",
        "valid_set = windowed_dataset(series=x_valid,\n",
        "                             batch_size=BATCH_SIZE,\n",
        "                             n_past=N_PAST,\n",
        "                             n_future=N_FUTURE,\n",
        "                             shift=SHIFT)"
      ],
      "execution_count": 12,
      "outputs": []
    },
    {
      "cell_type": "markdown",
      "metadata": {
        "id": "_1yVBgfz5AK8"
      },
      "source": [
        "## 모델 생성"
      ]
    },
    {
      "cell_type": "code",
      "metadata": {
        "id": "94dEuVdH5Cpk"
      },
      "source": [
        "model = tf.keras.models.Sequential([\n",
        "    Conv1D(filters=32,\n",
        "            kernel_size=3,\n",
        "            padding=\"causal\",\n",
        "            activation=\"relu\",\n",
        "            input_shape=[N_PAST, 7],\n",
        "            ),\n",
        "    Bidirectional(LSTM(32, return_sequences=True)),\n",
        "    Dense(32, activation=\"relu\"),\n",
        "    Dense(16, activation=\"relu\"),\n",
        "    Dense(N_FEATURES)\n",
        "])"
      ],
      "execution_count": 13,
      "outputs": []
    },
    {
      "cell_type": "markdown",
      "metadata": {
        "id": "kBuqPmBF5GP6"
      },
      "source": [
        "## 체크포인트 생성"
      ]
    },
    {
      "cell_type": "code",
      "metadata": {
        "id": "6Arm5-TF5Jh7"
      },
      "source": [
        "checkpoint_path='model/my_checkpoint.ckpt'\n",
        "\n",
        "checkpoint = ModelCheckpoint(checkpoint_path,\n",
        "                             save_weights_only=True,\n",
        "                             save_best_only=True,\n",
        "                             monitor='val_loss',\n",
        "                             verbose=1,\n",
        "                             )"
      ],
      "execution_count": 14,
      "outputs": []
    },
    {
      "cell_type": "markdown",
      "metadata": {
        "id": "aVt2b6lq5QiU"
      },
      "source": [
        "## 모델 컴파일"
      ]
    },
    {
      "cell_type": "code",
      "metadata": {
        "id": "Yr5PxcHR5MUp"
      },
      "source": [
        "# learning_rate=0.0005, Adam 옵치마이저\n",
        "optimizer =  tf.keras.optimizers.Adam(learning_rate=0.0005)\n",
        "\n",
        "model.compile(loss='mae',\n",
        "              optimizer=optimizer,\n",
        "              metrics=[\"mae\"]\n",
        "              )"
      ],
      "execution_count": 15,
      "outputs": []
    },
    {
      "cell_type": "markdown",
      "metadata": {
        "id": "W_zhL1eL5akg"
      },
      "source": [
        "## 모델 학습"
      ]
    },
    {
      "cell_type": "code",
      "metadata": {
        "colab": {
          "base_uri": "https://localhost:8080/"
        },
        "id": "56MfdhKe5Zr1",
        "outputId": "75d38582-536b-45a2-ca35-d910ab6bbc9e"
      },
      "source": [
        "model.fit(train_set,\n",
        "        validation_data=(valid_set),\n",
        "        epochs=20,\n",
        "        callbacks=[checkpoint],\n",
        "        )"
      ],
      "execution_count": 16,
      "outputs": [
        {
          "output_type": "stream",
          "name": "stdout",
          "text": [
            "Epoch 1/20\n",
            "   2159/Unknown - 54s 11ms/step - loss: 0.0510 - mae: 0.0510\n",
            "Epoch 1: val_loss improved from inf to 0.04364, saving model to model/my_checkpoint.ckpt\n",
            "2159/2159 [==============================] - 60s 13ms/step - loss: 0.0510 - mae: 0.0510 - val_loss: 0.0436 - val_mae: 0.0436\n",
            "Epoch 2/20\n",
            "2156/2159 [============================>.] - ETA: 0s - loss: 0.0431 - mae: 0.0431\n",
            "Epoch 2: val_loss improved from 0.04364 to 0.04191, saving model to model/my_checkpoint.ckpt\n",
            "2159/2159 [==============================] - 37s 13ms/step - loss: 0.0431 - mae: 0.0431 - val_loss: 0.0419 - val_mae: 0.0419\n",
            "Epoch 3/20\n",
            "2156/2159 [============================>.] - ETA: 0s - loss: 0.0419 - mae: 0.0419\n",
            "Epoch 3: val_loss improved from 0.04191 to 0.04171, saving model to model/my_checkpoint.ckpt\n",
            "2159/2159 [==============================] - 37s 13ms/step - loss: 0.0419 - mae: 0.0419 - val_loss: 0.0417 - val_mae: 0.0417\n",
            "Epoch 4/20\n",
            "2157/2159 [============================>.] - ETA: 0s - loss: 0.0411 - mae: 0.0411\n",
            "Epoch 4: val_loss improved from 0.04171 to 0.04106, saving model to model/my_checkpoint.ckpt\n",
            "2159/2159 [==============================] - 35s 13ms/step - loss: 0.0411 - mae: 0.0411 - val_loss: 0.0411 - val_mae: 0.0411\n",
            "Epoch 5/20\n",
            "2159/2159 [==============================] - ETA: 0s - loss: 0.0406 - mae: 0.0406\n",
            "Epoch 5: val_loss improved from 0.04106 to 0.04056, saving model to model/my_checkpoint.ckpt\n",
            "2159/2159 [==============================] - 36s 13ms/step - loss: 0.0406 - mae: 0.0406 - val_loss: 0.0406 - val_mae: 0.0406\n",
            "Epoch 6/20\n",
            "2155/2159 [============================>.] - ETA: 0s - loss: 0.0402 - mae: 0.0402\n",
            "Epoch 6: val_loss improved from 0.04056 to 0.03998, saving model to model/my_checkpoint.ckpt\n",
            "2159/2159 [==============================] - 35s 12ms/step - loss: 0.0402 - mae: 0.0402 - val_loss: 0.0400 - val_mae: 0.0400\n",
            "Epoch 7/20\n",
            "2156/2159 [============================>.] - ETA: 0s - loss: 0.0398 - mae: 0.0398\n",
            "Epoch 7: val_loss did not improve from 0.03998\n",
            "2159/2159 [==============================] - 37s 13ms/step - loss: 0.0398 - mae: 0.0398 - val_loss: 0.0407 - val_mae: 0.0407\n",
            "Epoch 8/20\n",
            "2158/2159 [============================>.] - ETA: 0s - loss: 0.0393 - mae: 0.0393\n",
            "Epoch 8: val_loss improved from 0.03998 to 0.03902, saving model to model/my_checkpoint.ckpt\n",
            "2159/2159 [==============================] - 36s 13ms/step - loss: 0.0393 - mae: 0.0393 - val_loss: 0.0390 - val_mae: 0.0390\n",
            "Epoch 9/20\n",
            "2158/2159 [============================>.] - ETA: 0s - loss: 0.0390 - mae: 0.0390\n",
            "Epoch 9: val_loss improved from 0.03902 to 0.03897, saving model to model/my_checkpoint.ckpt\n",
            "2159/2159 [==============================] - 40s 15ms/step - loss: 0.0390 - mae: 0.0390 - val_loss: 0.0390 - val_mae: 0.0390\n",
            "Epoch 10/20\n",
            "2156/2159 [============================>.] - ETA: 0s - loss: 0.0388 - mae: 0.0388\n",
            "Epoch 10: val_loss improved from 0.03897 to 0.03856, saving model to model/my_checkpoint.ckpt\n",
            "2159/2159 [==============================] - 36s 12ms/step - loss: 0.0388 - mae: 0.0388 - val_loss: 0.0386 - val_mae: 0.0386\n",
            "Epoch 11/20\n",
            "2156/2159 [============================>.] - ETA: 0s - loss: 0.0385 - mae: 0.0385\n",
            "Epoch 11: val_loss improved from 0.03856 to 0.03833, saving model to model/my_checkpoint.ckpt\n",
            "2159/2159 [==============================] - 36s 12ms/step - loss: 0.0385 - mae: 0.0385 - val_loss: 0.0383 - val_mae: 0.0383\n",
            "Epoch 12/20\n",
            "2155/2159 [============================>.] - ETA: 0s - loss: 0.0384 - mae: 0.0384\n",
            "Epoch 12: val_loss did not improve from 0.03833\n",
            "2159/2159 [==============================] - 40s 15ms/step - loss: 0.0383 - mae: 0.0383 - val_loss: 0.0389 - val_mae: 0.0389\n",
            "Epoch 13/20\n",
            "2156/2159 [============================>.] - ETA: 0s - loss: 0.0383 - mae: 0.0383\n",
            "Epoch 13: val_loss did not improve from 0.03833\n",
            "2159/2159 [==============================] - 35s 12ms/step - loss: 0.0383 - mae: 0.0383 - val_loss: 0.0390 - val_mae: 0.0390\n",
            "Epoch 14/20\n",
            "2155/2159 [============================>.] - ETA: 0s - loss: 0.0381 - mae: 0.0381\n",
            "Epoch 14: val_loss improved from 0.03833 to 0.03816, saving model to model/my_checkpoint.ckpt\n",
            "2159/2159 [==============================] - 35s 12ms/step - loss: 0.0381 - mae: 0.0381 - val_loss: 0.0382 - val_mae: 0.0382\n",
            "Epoch 15/20\n",
            "2154/2159 [============================>.] - ETA: 0s - loss: 0.0379 - mae: 0.0379\n",
            "Epoch 15: val_loss improved from 0.03816 to 0.03799, saving model to model/my_checkpoint.ckpt\n",
            "2159/2159 [==============================] - 36s 13ms/step - loss: 0.0379 - mae: 0.0379 - val_loss: 0.0380 - val_mae: 0.0380\n",
            "Epoch 16/20\n",
            "2154/2159 [============================>.] - ETA: 0s - loss: 0.0379 - mae: 0.0379\n",
            "Epoch 16: val_loss did not improve from 0.03799\n",
            "2159/2159 [==============================] - 37s 13ms/step - loss: 0.0379 - mae: 0.0379 - val_loss: 0.0381 - val_mae: 0.0381\n",
            "Epoch 17/20\n",
            "2156/2159 [============================>.] - ETA: 0s - loss: 0.0377 - mae: 0.0377\n",
            "Epoch 17: val_loss improved from 0.03799 to 0.03777, saving model to model/my_checkpoint.ckpt\n",
            "2159/2159 [==============================] - 35s 12ms/step - loss: 0.0377 - mae: 0.0377 - val_loss: 0.0378 - val_mae: 0.0378\n",
            "Epoch 18/20\n",
            "2158/2159 [============================>.] - ETA: 0s - loss: 0.0377 - mae: 0.0377\n",
            "Epoch 18: val_loss did not improve from 0.03777\n",
            "2159/2159 [==============================] - 35s 12ms/step - loss: 0.0377 - mae: 0.0377 - val_loss: 0.0380 - val_mae: 0.0380\n",
            "Epoch 19/20\n",
            "2157/2159 [============================>.] - ETA: 0s - loss: 0.0376 - mae: 0.0376\n",
            "Epoch 19: val_loss improved from 0.03777 to 0.03765, saving model to model/my_checkpoint.ckpt\n",
            "2159/2159 [==============================] - 40s 15ms/step - loss: 0.0376 - mae: 0.0376 - val_loss: 0.0377 - val_mae: 0.0377\n",
            "Epoch 20/20\n",
            "2157/2159 [============================>.] - ETA: 0s - loss: 0.0375 - mae: 0.0375\n",
            "Epoch 20: val_loss did not improve from 0.03765\n",
            "2159/2159 [==============================] - 35s 12ms/step - loss: 0.0375 - mae: 0.0375 - val_loss: 0.0377 - val_mae: 0.0377\n"
          ]
        },
        {
          "output_type": "execute_result",
          "data": {
            "text/plain": [
              "<keras.src.callbacks.History at 0x7e4a407f8130>"
            ]
          },
          "metadata": {},
          "execution_count": 16
        }
      ]
    },
    {
      "cell_type": "markdown",
      "metadata": {
        "id": "paeq-Xus5eI8"
      },
      "source": [
        "`load_weights` 로 저장한 모델 로드"
      ]
    },
    {
      "cell_type": "code",
      "metadata": {
        "colab": {
          "base_uri": "https://localhost:8080/"
        },
        "id": "rJTuV1s-5cB8",
        "outputId": "cde3e544-8165-42fc-9084-ff8a8a903a32"
      },
      "source": [
        "model.load_weights(checkpoint_path)"
      ],
      "execution_count": 17,
      "outputs": [
        {
          "output_type": "execute_result",
          "data": {
            "text/plain": [
              "<tensorflow.python.checkpoint.checkpoint.CheckpointLoadStatus at 0x7e49a1e4ea70>"
            ]
          },
          "metadata": {},
          "execution_count": 17
        }
      ]
    },
    {
      "cell_type": "markdown",
      "metadata": {
        "id": "E_OWIGHV5lNs"
      },
      "source": [
        "## 모델 검증"
      ]
    },
    {
      "cell_type": "code",
      "metadata": {
        "id": "Ardw40zS53CV"
      },
      "source": [
        "# HINT: Your neural network must have a validation MAE of approximately 0.055 or\n",
        "# less on the normalized validation dataset for top marks."
      ],
      "execution_count": 18,
      "outputs": []
    },
    {
      "cell_type": "code",
      "metadata": {
        "colab": {
          "base_uri": "https://localhost:8080/"
        },
        "id": "mE6m1sRE5ih8",
        "outputId": "368277bf-4bff-4aa5-f4a7-f21d0a76a301"
      },
      "source": [
        "model.evaluate(valid_set)"
      ],
      "execution_count": 19,
      "outputs": [
        {
          "output_type": "stream",
          "name": "stdout",
          "text": [
            "539/539 [==============================] - 5s 6ms/step - loss: 0.0377 - mae: 0.0377\n"
          ]
        },
        {
          "output_type": "execute_result",
          "data": {
            "text/plain": [
              "[0.037651486694812775, 0.03765147924423218]"
            ]
          },
          "metadata": {},
          "execution_count": 19
        }
      ]
    },
    {
      "cell_type": "code",
      "metadata": {
        "id": "5M2NS9MbKTay"
      },
      "source": [],
      "execution_count": null,
      "outputs": []
    }
  ]
}